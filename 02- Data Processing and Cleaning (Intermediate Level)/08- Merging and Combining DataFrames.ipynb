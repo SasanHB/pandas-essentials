{
 "cells": [
  {
   "cell_type": "markdown",
   "id": "82589464",
   "metadata": {},
   "source": [
    "# 📓 Lesson 8: Merging and Combining DataFrames\n",
    "📘 What you will learn:\n",
    "1. How to combine multiple datasets using:\n",
    "2. concat() for stacking DataFrames\n",
    "3. merge() for database-style joins\n",
    "4. join() for index-based merging\n",
    "5. How to handle overlapping columns and indexes"
   ]
  },
  {
   "cell_type": "markdown",
   "id": "8b4f71df",
   "metadata": {},
   "source": [
    "## Step 1: Create Two Simple DataFrames\n",
    "Let’s create two small datasets to understand merging better:"
   ]
  },
  {
   "cell_type": "code",
   "execution_count": null,
   "id": "e5cca29d",
   "metadata": {},
   "outputs": [],
   "source": [
    "import pandas as pd\n",
    "\n",
    "# First DataFrame – basic customer info\n",
    "df_customers = pd.DataFrame({\n",
    "    'CustomerID': [1, 2, 3],\n",
    "    'Name': ['Ali', 'Sara', 'Reza']\n",
    "})\n",
    "\n",
    "# Second DataFrame – customer orders\n",
    "df_orders = pd.DataFrame({\n",
    "    'CustomerID': [1, 2, 4],\n",
    "    'OrderTotal': [100, 200, 300]\n",
    "})\n",
    "\n",
    "print(\"Customers:\\n\", df_customers)\n",
    "print(\"\\nOrders:\\n\", df_orders)\n"
   ]
  },
  {
   "cell_type": "markdown",
   "id": "163c4511",
   "metadata": {},
   "source": [
    "## Step 2: Merge with merge()\n",
    "Merge both datasets on CustomerID:"
   ]
  },
  {
   "cell_type": "code",
   "execution_count": null,
   "id": "e2512754",
   "metadata": {},
   "outputs": [],
   "source": [
    "# Inner Join (only matching CustomerID)\n",
    "merged_df = pd.merge(df_customers, df_orders, on='CustomerID', how='inner')\n",
    "print(merged_df)"
   ]
  },
  {
   "cell_type": "markdown",
   "id": "13eb2857",
   "metadata": {},
   "source": [
    "💡 Use merge() when:\n",
    "\n",
    "- You want to combine two tables based on a common key (like SQL joins)\n",
    "- You have relational-style data (e.g., Customer → Orders, Employee → Department)\n",
    "\n",
    "📌 Best for: \n",
    "\n",
    "- Combining related datasets using shared columns like UserID, ProductID, etc."
   ]
  },
  {
   "cell_type": "markdown",
   "id": "a30de8da",
   "metadata": {},
   "source": [
    "## Step 3: Types of Joins\n",
    "Try different join types:"
   ]
  },
  {
   "cell_type": "code",
   "execution_count": null,
   "id": "2aaecc4d",
   "metadata": {},
   "outputs": [],
   "source": [
    "# Left Join: keep all customers\n",
    "left_join = pd.merge(df_customers, df_orders, on='CustomerID', how='left')\n",
    "\n",
    "# Right Join: keep all orders\n",
    "right_join = pd.merge(df_customers, df_orders, on='CustomerID', how='right')\n",
    "\n",
    "# Outer Join: keep everything\n",
    "outer_join = pd.merge(df_customers, df_orders, on='CustomerID', how='outer')"
   ]
  },
  {
   "cell_type": "markdown",
   "id": "9751e6c9",
   "metadata": {},
   "source": [
    "## Step 4: Concatenating DataFrames\n",
    "Stacking data row-wise or column-wise:"
   ]
  },
  {
   "cell_type": "code",
   "execution_count": null,
   "id": "7c89bbb8",
   "metadata": {},
   "outputs": [],
   "source": [
    "# Vertical stacking (row-wise)\n",
    "df1 = pd.DataFrame({'A': ['a', 'b'], 'B': [1, 2]})\n",
    "df2 = pd.DataFrame({'A': ['c', 'd'], 'B': [3, 4]})\n",
    "\n",
    "vertical = pd.concat([df1, df2], ignore_index=True)\n",
    "\n",
    "# Horizontal stacking (column-wise)\n",
    "horizontal = pd.concat([df1, df2], axis=1)\n",
    "\n",
    "print(\"Vertical:\\n\", vertical)\n",
    "print(\"Horizontal:\\n\", horizontal)\n"
   ]
  },
  {
   "cell_type": "markdown",
   "id": "b6fafbd4",
   "metadata": {},
   "source": [
    "💡 Use concat() when:\n",
    "\n",
    "- You have multiple datasets with the same structure (same columns)\n",
    "- You want to stack them vertically (row-wise) or combine them side-by-side (column-wise)\n",
    "\n",
    "📌 Best for:\n",
    "\n",
    "- Appending monthly reports\n",
    "- Adding the same type of data from multiple sources (e.g., df_jan, df_feb)"
   ]
  },
  {
   "cell_type": "markdown",
   "id": "030b060f",
   "metadata": {},
   "source": [
    "## Step 5: Joining by Index\n",
    "Create two DataFrames with index:"
   ]
  },
  {
   "cell_type": "code",
   "execution_count": null,
   "id": "5f8a5aec",
   "metadata": {},
   "outputs": [],
   "source": [
    "df_left = pd.DataFrame({'A': ['Ali', 'Sara']}, index=[1, 2])\n",
    "df_right = pd.DataFrame({'B': [100, 200]}, index=[2, 3])\n",
    "\n",
    "# Join by index\n",
    "joined = df_left.join(df_right, how='outer')\n",
    "print(joined)\n"
   ]
  },
  {
   "cell_type": "markdown",
   "id": "d76e4974",
   "metadata": {},
   "source": [
    "💡 Use join() when:\n",
    "\n",
    "- You are working with DataFrames indexed by ID, not columns\n",
    "- You want to combine data based on their index values\n",
    "\n",
    "📌 Best for:\n",
    "\n",
    "- Situations where you have aligned data by index, like time series or labeled data\n",
    "\n"
   ]
  },
  {
   "cell_type": "markdown",
   "id": "c8f647ea",
   "metadata": {},
   "source": [
    "## Practice Exercises\n",
    "1. Create two DataFrames with a common column (e.g. EmployeeID)\n",
    "2. Merge them with inner and outer join\n",
    "3. Use concat() to stack sample data vertically and horizontally\n",
    "4. Use .join() to join data on index"
   ]
  },
  {
   "cell_type": "code",
   "execution_count": null,
   "id": "e1dcc9e3",
   "metadata": {},
   "outputs": [],
   "source": [
    "# Merge example\n",
    "df_a = pd.DataFrame({'ID': [1, 2], 'Name': ['Ali', 'Sara']})\n",
    "df_b = pd.DataFrame({'ID': [2, 3], 'City': ['Tehran', 'Shiraz']})\n",
    "\n",
    "print(pd.merge(df_a, df_b, on='ID', how='outer'))\n",
    "\n",
    "# Concat example\n",
    "d1 = pd.DataFrame({'X': [1, 2]})\n",
    "d2 = pd.DataFrame({'X': [3, 4]})\n",
    "print(pd.concat([d1, d2], ignore_index=True))\n",
    "\n",
    "# Join example\n",
    "df_indexed_1 = pd.DataFrame({'A': ['Yes', 'No']}, index=[1, 2])\n",
    "df_indexed_2 = pd.DataFrame({'B': ['Win', 'Lose']}, index=[2, 3])\n",
    "print(df_indexed_1.join(df_indexed_2, how='outer'))"
   ]
  },
  {
   "cell_type": "markdown",
   "id": "ad99ec73",
   "metadata": {},
   "source": [
    "## Summary\n",
    "In this lesson, you learned:\n",
    "- How to combine DataFrames using merge(), concat(), and join()\n",
    "- The difference between inner, left, right, and outer joins\n",
    "- How to concatenate data vertically or horizontally\n",
    "- How to join datasets based on index values\n",
    "\n",
    "👉 In the next lesson, you will learn how to create pivot tables and work with MultiIndex DataFrames."
   ]
  }
 ],
 "metadata": {
  "kernelspec": {
   "display_name": "venv",
   "language": "python",
   "name": "python3"
  },
  "language_info": {
   "codemirror_mode": {
    "name": "ipython",
    "version": 3
   },
   "file_extension": ".py",
   "mimetype": "text/x-python",
   "name": "python",
   "nbconvert_exporter": "python",
   "pygments_lexer": "ipython3",
   "version": "3.10.10"
  }
 },
 "nbformat": 4,
 "nbformat_minor": 5
}
