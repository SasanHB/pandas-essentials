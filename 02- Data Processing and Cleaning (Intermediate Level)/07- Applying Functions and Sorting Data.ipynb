{
 "cells": [
  {
   "cell_type": "markdown",
   "id": "725c451f",
   "metadata": {},
   "source": [
    "# 📓 Lesson 7: Applying Functions and Sorting Data\n",
    "📘 What you will learn:\n",
    "1. Apply custom or built-in functions to columns using apply()\n",
    "2. Use map() for simple value transformations\n",
    "3. Use lambda functions for inline operations\n",
    "4. Sort data with sort_values() and sort_index()\n",
    "5. Create new calculated columns"
   ]
  },
  {
   "cell_type": "markdown",
   "id": "77925dea",
   "metadata": {},
   "source": [
    "## Step 1: Load the Dataset\n",
    "We’ll use Sales_January_2019.csv."
   ]
  },
  {
   "cell_type": "code",
   "execution_count": null,
   "id": "f78e2e2c",
   "metadata": {},
   "outputs": [],
   "source": [
    "import pandas as pd\n",
    "\n",
    "df = pd.read_csv('../data/Sales_January_2019.csv')\n",
    "\n",
    "# Convert numeric columns\n",
    "df['Quantity Ordered'] = pd.to_numeric(df['Quantity Ordered'], errors='coerce')\n",
    "df['Price Each'] = pd.to_numeric(df['Price Each'], errors='coerce')\n",
    "\n",
    "# Remove invalid rows\n",
    "df = df.dropna(subset=['Quantity Ordered', 'Price Each'])\n"
   ]
  },
  {
   "cell_type": "markdown",
   "id": "273f31bc",
   "metadata": {},
   "source": [
    "## Step 2: Create a New Column\n",
    "Let’s calculate Total Price = Quantity Ordered × Price Each"
   ]
  },
  {
   "cell_type": "code",
   "execution_count": null,
   "id": "5d6d9321",
   "metadata": {},
   "outputs": [],
   "source": [
    "df['Total Price'] = df['Quantity Ordered'] * df['Price Each']\n",
    "print(df[['Product', 'Quantity Ordered', 'Price Each', 'Total Price']].head())\n"
   ]
  },
  {
   "cell_type": "markdown",
   "id": "96f87783",
   "metadata": {},
   "source": [
    "## Step 3: Use apply() to Modify Data\n",
    "You can apply custom functions to each row or column:"
   ]
  },
  {
   "cell_type": "code",
   "execution_count": null,
   "id": "fec6864f",
   "metadata": {},
   "outputs": [],
   "source": [
    "# Example: Capitalize product names\n",
    "df['Product'] = df['Product'].apply(lambda x: str(x).title())"
   ]
  },
  {
   "cell_type": "markdown",
   "id": "1f9add53",
   "metadata": {},
   "source": [
    "💡 apply() lets you pass a function (like lambda) to process each value.\n",
    "\n",
    "You can also define your own function:"
   ]
  },
  {
   "cell_type": "code",
   "execution_count": null,
   "id": "4f4a66d6",
   "metadata": {},
   "outputs": [],
   "source": [
    "def label_price(row):\n",
    "    if row['Total Price'] > 500:\n",
    "        return 'High'\n",
    "    elif row['Total Price'] > 100:\n",
    "        return 'Medium'\n",
    "    else:\n",
    "        return 'Low'\n",
    "\n",
    "df['Price Label'] = df.apply(label_price, axis=1)\n",
    "print(df[['Total Price', 'Price Label']].head())"
   ]
  },
  {
   "cell_type": "markdown",
   "id": "6ab7c4f1",
   "metadata": {},
   "source": [
    "💡 axis=1 means apply the function to each row (not column)."
   ]
  },
  {
   "cell_type": "markdown",
   "id": "8882ec3e",
   "metadata": {},
   "source": [
    "## Step 4: Use map() for Simple Replacements\n",
    "If you only want to change values based on a lookup:"
   ]
  },
  {
   "cell_type": "code",
   "execution_count": null,
   "id": "3e063328",
   "metadata": {},
   "outputs": [],
   "source": [
    "# Shorten product names\n",
    "df['Short Name'] = df['Product'].map({\n",
    "    'Usb-C Charging Cable': 'USB Cable',\n",
    "    'Bose Soundsport Headphones': 'Headphones',\n",
    "    'Lightning Charging Cable': 'Charging Cable',\n",
    "    'Wired Headphones': 'Headphones',\n",
    "    'Macbook Pro Laptop': 'Macbook'\n",
    "})\n",
    "print(df[['Product', 'Short Name', 'Price Each']].head())"
   ]
  },
  {
   "cell_type": "markdown",
   "id": "cdfe6685",
   "metadata": {},
   "source": [
    "💡 map() is great for replacing specific known values."
   ]
  },
  {
   "cell_type": "markdown",
   "id": "4d892d03",
   "metadata": {},
   "source": [
    "## Step 5: Sort the Data\n",
    "You can sort by column values:"
   ]
  },
  {
   "cell_type": "code",
   "execution_count": null,
   "id": "8e3fe930",
   "metadata": {},
   "outputs": [],
   "source": [
    "# Sort by total price (high to low)\n",
    "df_sorted = df.sort_values(by='Total Price', ascending=False)\n",
    "print(df_sorted[['Product', 'Total Price']].head())"
   ]
  },
  {
   "cell_type": "markdown",
   "id": "f45bcca4",
   "metadata": {},
   "source": [
    "You can also sort by index:"
   ]
  },
  {
   "cell_type": "code",
   "execution_count": null,
   "id": "d663c953",
   "metadata": {},
   "outputs": [],
   "source": [
    "# Sort by index (low to high)\n",
    "df_sorted = df.sort_index()\n",
    "\n",
    "print(df_sorted[['Product', 'Total Price']].head())"
   ]
  },
  {
   "cell_type": "markdown",
   "id": "9ccc7be1",
   "metadata": {},
   "source": [
    "## Practice Exercises\n",
    "1. Create a new column Total Price\n",
    "2. Add a column Price Label with values High, Medium, Low based on price\n",
    "3. Map short names for 3 product types\n",
    "4. Sort the dataset by Total Price in descending order"
   ]
  },
  {
   "cell_type": "code",
   "execution_count": null,
   "id": "16d20a8e",
   "metadata": {},
   "outputs": [],
   "source": [
    "# 1\n",
    "df['Total Price'] = df['Quantity Ordered'] * df['Price Each']\n",
    "\n",
    "# 2\n",
    "def label(row):\n",
    "    if row['Total Price'] > 500:\n",
    "        return 'High'\n",
    "    elif row['Total Price'] > 100:\n",
    "        return 'Medium'\n",
    "    return 'Low'\n",
    "\n",
    "df['Price Label'] = df.apply(label, axis=1)\n",
    "\n",
    "# 3\n",
    "df['Short Name'] = df['Product'].map({\n",
    "    'Apple Airpods Headphones': 'Airpods',\n",
    "    'Macbook Pro Laptop': 'Macbook',\n",
    "    'Google Phone': 'Pixel'\n",
    "})\n",
    "\n",
    "# 4\n",
    "df = df.sort_values('Total Price', ascending=False)\n",
    "print(df[['Product', 'Short Name', 'Price Each', 'Total Price']].head())"
   ]
  },
  {
   "cell_type": "markdown",
   "id": "1dc6e6ae",
   "metadata": {},
   "source": [
    "## Summary\n",
    "- In this lesson, you learned:\n",
    "- How to use apply() to create calculated or labeled columns\n",
    "- How to use map() to replace values\n",
    "- How to sort data with sort_values()\n",
    "- How to use lambda and custom functions for flexibility\n",
    "\n",
    "👉 In the next lesson, you will learn how to merge and combine multiple datasets using merge(), concat(), and join()."
   ]
  }
 ],
 "metadata": {
  "kernelspec": {
   "display_name": "venv",
   "language": "python",
   "name": "python3"
  },
  "language_info": {
   "codemirror_mode": {
    "name": "ipython",
    "version": 3
   },
   "file_extension": ".py",
   "mimetype": "text/x-python",
   "name": "python",
   "nbconvert_exporter": "python",
   "pygments_lexer": "ipython3",
   "version": "3.10.10"
  }
 },
 "nbformat": 4,
 "nbformat_minor": 5
}
