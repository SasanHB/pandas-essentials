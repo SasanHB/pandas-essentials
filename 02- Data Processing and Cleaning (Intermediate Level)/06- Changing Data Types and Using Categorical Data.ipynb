{
 "cells": [
  {
   "cell_type": "markdown",
   "id": "da574a4c",
   "metadata": {},
   "source": [
    "# 📓 Lesson 6: Changing Data Types and Using Categorical Data\n",
    "📘 What you will learn:\n",
    "1. How to check and change column data types\n",
    "2. How to use astype() to convert types\n",
    "3. How to work with category data to save memory\n",
    "4. How to convert dates to datetime type"
   ]
  },
  {
   "cell_type": "markdown",
   "id": "cabe7711",
   "metadata": {},
   "source": [
    "## Step 1: Load the Dataset\n",
    "We’ll again use Sales_January_2019.csv from the data/ folder.\n"
   ]
  },
  {
   "cell_type": "code",
   "execution_count": null,
   "id": "c977517a",
   "metadata": {},
   "outputs": [],
   "source": [
    "import pandas as pd\n",
    "\n",
    "# Load dataset\n",
    "df = pd.read_csv('../data/Sales_January_2019.csv')\n",
    "\n",
    "# Show data types\n",
    "print(df.dtypes)"
   ]
  },
  {
   "cell_type": "markdown",
   "id": "9ed77e2f",
   "metadata": {},
   "source": [
    "💡 This tells you what type each column currently is (e.g., object, int64, float64)."
   ]
  },
  {
   "cell_type": "markdown",
   "id": "13d34d60",
   "metadata": {},
   "source": [
    "## Step 2: Convert Strings to Numbers\n",
    "Some columns like Quantity Ordered may be read as strings. We need to convert them:"
   ]
  },
  {
   "cell_type": "code",
   "execution_count": null,
   "id": "a4ca8930",
   "metadata": {},
   "outputs": [],
   "source": [
    "# Convert to numeric, set errors='coerce' to handle bad values\n",
    "df['Quantity Ordered'] = pd.to_numeric(df['Quantity Ordered'], errors='coerce')\n",
    "df['Price Each'] = pd.to_numeric(df['Price Each'], errors='coerce')\n",
    "\n",
    "# Drop rows where conversion failed and became NaN\n",
    "df = df.dropna(subset=['Quantity Ordered', 'Price Each'])\n",
    "\n",
    "# Check types\n",
    "print(df.dtypes)"
   ]
  },
  {
   "cell_type": "markdown",
   "id": "b2e545e5",
   "metadata": {},
   "source": [
    "Clean NaN values after conversion:\n"
   ]
  },
  {
   "cell_type": "code",
   "execution_count": null,
   "id": "e390e771",
   "metadata": {},
   "outputs": [],
   "source": [
    "df = df.dropna(subset=['Quantity Ordered', 'Price Each'])"
   ]
  },
  {
   "cell_type": "markdown",
   "id": "e40bc8e8",
   "metadata": {},
   "source": [
    "## Step 3: Convert to Categorical Data\n",
    "If a column contains a small number of repeated values (e.g., city names or products), you can use category type to save memory:"
   ]
  },
  {
   "cell_type": "code",
   "execution_count": null,
   "id": "09fc575c",
   "metadata": {},
   "outputs": [],
   "source": [
    "# Before\n",
    "print(df['Product'].memory_usage(deep=True))\n",
    "\n",
    "# Convert to category\n",
    "df['Product'] = df['Product'].astype('category')\n",
    "\n",
    "# After\n",
    "print(df['Product'].memory_usage(deep=True))\n"
   ]
  },
  {
   "cell_type": "markdown",
   "id": "61333ff1",
   "metadata": {},
   "source": [
    "📌 What does deep=True do?\n",
    "\n",
    "By default (deep=False), memory_usage() only shows the shallow memory used – the basic structure of the column.\n",
    "\n",
    "When you set deep=True, Pandas calculates the true memory usage, including the actual memory consumed by strings or objects inside the column.\n",
    "\n",
    "This is especially useful for columns with object or string data types."
   ]
  },
  {
   "cell_type": "code",
   "execution_count": null,
   "id": "4041bb25",
   "metadata": {},
   "outputs": [],
   "source": [
    "df = pd.DataFrame({\n",
    "    'Product': ['iPhone', 'iPhone', 'MacBook', 'iPhone', 'MacBook']\n",
    "})\n",
    "\n",
    "print(\"Without deep:\", df['Product'].memory_usage(deep=False))\n",
    "print(\"With deep:\", df['Product'].memory_usage(deep=True))\n"
   ]
  },
  {
   "cell_type": "markdown",
   "id": "009916fb",
   "metadata": {},
   "source": [
    "As you can see, the memory with deep=True is more accurate because it includes the content of each string, not just the references."
   ]
  },
  {
   "cell_type": "markdown",
   "id": "523f153e",
   "metadata": {},
   "source": [
    "💡 You can also check:"
   ]
  },
  {
   "cell_type": "code",
   "execution_count": null,
   "id": "4745b32e",
   "metadata": {},
   "outputs": [],
   "source": [
    "print(df['Product'].value_counts())"
   ]
  },
  {
   "cell_type": "markdown",
   "id": "0e016952",
   "metadata": {},
   "source": [
    "## Step 4: Convert Dates to datetime\n",
    "To work with dates (e.g., filtering, sorting, grouping), convert them using pd.to_datetime():"
   ]
  },
  {
   "cell_type": "code",
   "execution_count": null,
   "id": "514fa849",
   "metadata": {},
   "outputs": [],
   "source": [
    "df['Order Date'] = pd.to_datetime(df['Order Date'], errors='coerce')\n",
    "\n",
    "# Check result\n",
    "print(df['Order Date'].head())"
   ]
  },
  {
   "cell_type": "markdown",
   "id": "ba6c3fa1",
   "metadata": {},
   "source": [
    "You can now extract date parts:"
   ]
  },
  {
   "cell_type": "code",
   "execution_count": null,
   "id": "3a84cc39",
   "metadata": {},
   "outputs": [],
   "source": [
    "df['Month'] = df['Order Date'].dt.month\n",
    "df['Hour'] = df['Order Date'].dt.hour\n",
    "\n",
    "print(df)"
   ]
  },
  {
   "cell_type": "markdown",
   "id": "34aebf47",
   "metadata": {},
   "source": [
    "## Practice Exercises\n",
    "\n",
    "1. Load Sales_January_2019.csv\n",
    "2. Convert Quantity Ordered and Price Each to numeric\n",
    "3. Convert Product and City to category\n",
    "4. Convert Order Date to datetime\n",
    "5. Create a new column for Month and Hour\n",
    "6. Compare memory usage of categorical vs object types"
   ]
  },
  {
   "cell_type": "code",
   "execution_count": null,
   "id": "ac6ef20b",
   "metadata": {},
   "outputs": [],
   "source": [
    "df = pd.read_csv('../data/Sales_January_2019.csv')\n",
    "\n",
    "df['Quantity Ordered'] = pd.to_numeric(df['Quantity Ordered'], errors='coerce')\n",
    "df['Price Each'] = pd.to_numeric(df['Price Each'], errors='coerce')\n",
    "df = df.dropna(subset=['Quantity Ordered', 'Price Each'])\n",
    "\n",
    "# Convert to category\n",
    "df['Product'] = df['Product'].astype('category')\n",
    "df['City'] = df['Purchase Address'].str.extract(r'([A-Za-z\\s]+),')\n",
    "\n",
    "df['City'] = df['City'].astype('category')\n",
    "\n",
    "# Convert to datetime\n",
    "df['Order Date'] = pd.to_datetime(df['Order Date'], errors='coerce')\n",
    "\n",
    "# Extract month and hour\n",
    "df['Month'] = df['Order Date'].dt.month\n",
    "df['Hour'] = df['Order Date'].dt.hour\n"
   ]
  },
  {
   "cell_type": "markdown",
   "id": "940ff67d",
   "metadata": {},
   "source": [
    "## Summary\n",
    "\n",
    "In this lesson, you learned how to:\n",
    "\n",
    "- Change data types using astype() and to_numeric()\n",
    "- Convert columns to category for better performance\n",
    "- Convert string dates to datetime format\n",
    "- Extract month, day, hour from datetime columns\n",
    "\n",
    "👉 In the next lesson, you will learn how to apply functions to your data, perform calculations, and sort your results."
   ]
  }
 ],
 "metadata": {
  "kernelspec": {
   "display_name": "venv",
   "language": "python",
   "name": "python3"
  },
  "language_info": {
   "codemirror_mode": {
    "name": "ipython",
    "version": 3
   },
   "file_extension": ".py",
   "mimetype": "text/x-python",
   "name": "python",
   "nbconvert_exporter": "python",
   "pygments_lexer": "ipython3",
   "version": "3.10.10"
  }
 },
 "nbformat": 4,
 "nbformat_minor": 5
}
