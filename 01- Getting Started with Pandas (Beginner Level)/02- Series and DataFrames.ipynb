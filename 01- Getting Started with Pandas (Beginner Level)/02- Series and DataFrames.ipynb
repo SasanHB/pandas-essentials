{
 "cells": [
  {
   "cell_type": "markdown",
   "id": "d815a859",
   "metadata": {},
   "source": [
    "# 📓 Lesson 2: Series and DataFrames\n",
    "📘 What you will learn:\n",
    "1. What is a Pandas Series?\n",
    "2. What is a Pandas DataFrame?\n",
    "3. How to create and explore them\n",
    "4. How to convert data between structures\n",
    "\n"
   ]
  },
  {
   "cell_type": "markdown",
   "id": "f659757c",
   "metadata": {},
   "source": [
    "## What is a Series?\n",
    "A Series is a one-dimensional labeled array. It can store any type of data (numbers, strings, etc.)."
   ]
  },
  {
   "cell_type": "code",
   "execution_count": null,
   "id": "51a14384",
   "metadata": {},
   "outputs": [],
   "source": [
    "import pandas as pd\n",
    "\n",
    "# A simple Series\n",
    "s = pd.Series([100, 200, 300])\n",
    "print(s)"
   ]
  },
  {
   "cell_type": "markdown",
   "id": "a4b5459f",
   "metadata": {},
   "source": [
    "Output:\n",
    "\n",
    "```bash\n",
    "0    100\n",
    "1    200\n",
    "2    300\n",
    "dtype: int64\n",
    "```"
   ]
  },
  {
   "cell_type": "markdown",
   "id": "e533e439",
   "metadata": {},
   "source": [
    "As you can see, the Series has:\n",
    "\n",
    "values (100, 200, 300)\n",
    "\n",
    "index labels (0, 1, 2)\n"
   ]
  },
  {
   "cell_type": "markdown",
   "id": "a46fd59e",
   "metadata": {},
   "source": [
    "## Custom Index in Series\n",
    "You can use custom labels for the index:"
   ]
  },
  {
   "cell_type": "code",
   "execution_count": null,
   "id": "e87e8f85",
   "metadata": {},
   "outputs": [],
   "source": [
    "prices = pd.Series([12000, 15000, 17000], index=['apple', 'banana', 'orange'])\n",
    "print(prices)"
   ]
  },
  {
   "cell_type": "markdown",
   "id": "11fbfdfc",
   "metadata": {},
   "source": [
    "Output:\n",
    "\n",
    "```bash\n",
    "apple     12000\n",
    "banana    15000\n",
    "orange    17000\n",
    "dtype: int64\n",
    "```"
   ]
  },
  {
   "cell_type": "markdown",
   "id": "6aa1f664",
   "metadata": {},
   "source": [
    "You can access values like this:"
   ]
  },
  {
   "cell_type": "code",
   "execution_count": null,
   "id": "016790a8",
   "metadata": {},
   "outputs": [],
   "source": [
    "print(prices['banana'])  # Output: 15000"
   ]
  },
  {
   "cell_type": "markdown",
   "id": "fe7698f3",
   "metadata": {},
   "source": [
    "## What is a DataFrame?\n",
    "A DataFrame is like a table (rows and columns)."
   ]
  },
  {
   "cell_type": "code",
   "execution_count": null,
   "id": "66254912",
   "metadata": {},
   "outputs": [],
   "source": [
    "data = {\n",
    "    'Name': ['Ali', 'Sara', 'Reza'],\n",
    "    'Age': [25, 30, 22],\n",
    "    'City': ['Tehran', 'Shiraz', 'Isfahan']\n",
    "}\n",
    "\n",
    "df = pd.DataFrame(data)\n",
    "print(df)"
   ]
  },
  {
   "cell_type": "markdown",
   "id": "581cb13e",
   "metadata": {},
   "source": [
    "Output:\n",
    "```bash\n",
    "   Name  Age     City\n",
    "0  Ali   25   Tehran\n",
    "1  Sara  30   Shiraz\n",
    "2  Reza  22  Isfahan\n",
    "```"
   ]
  },
  {
   "cell_type": "markdown",
   "id": "30556da4",
   "metadata": {},
   "source": [
    "## Accessing Data in DataFrame\n",
    "You can select a column like this:"
   ]
  },
  {
   "cell_type": "code",
   "execution_count": null,
   "id": "77a8f42f",
   "metadata": {},
   "outputs": [],
   "source": [
    "print(df['Name'])"
   ]
  },
  {
   "cell_type": "markdown",
   "id": "96c1e348",
   "metadata": {},
   "source": [
    "You can select multiple columns:"
   ]
  },
  {
   "cell_type": "code",
   "execution_count": null,
   "id": "3bb9f04b",
   "metadata": {},
   "outputs": [],
   "source": [
    "print(df[['Name', 'City']])"
   ]
  },
  {
   "cell_type": "markdown",
   "id": "9ff387ee",
   "metadata": {},
   "source": [
    "You can select a row by index:"
   ]
  },
  {
   "cell_type": "code",
   "execution_count": null,
   "id": "1ed798f1",
   "metadata": {},
   "outputs": [],
   "source": [
    "print(df.iloc[1])  # Row at index 1"
   ]
  },
  {
   "cell_type": "markdown",
   "id": "7df5cbf9",
   "metadata": {},
   "source": [
    "You can select by label if you set the index (we’ll cover that later)."
   ]
  },
  {
   "cell_type": "markdown",
   "id": "b5f465e3",
   "metadata": {},
   "source": [
    "## Convert Between Series and DataFrame\n",
    "You can create a DataFrame from multiple Series:"
   ]
  },
  {
   "cell_type": "code",
   "execution_count": null,
   "id": "a949b96b",
   "metadata": {},
   "outputs": [],
   "source": [
    "name_series = pd.Series(['Amin', 'Niloofar', 'Hossein'])\n",
    "age_series = pd.Series([27, 24, 29])\n",
    "\n",
    "df2 = pd.DataFrame({\n",
    "    'Name': name_series,\n",
    "    'Age': age_series\n",
    "})\n",
    "print(df2)"
   ]
  },
  {
   "cell_type": "markdown",
   "id": "a5eb3dc4",
   "metadata": {},
   "source": [
    "## Practice Exercises\n",
    "1. Create a Series with grades of 5 students. Use student names as index."
   ]
  },
  {
   "cell_type": "code",
   "execution_count": null,
   "id": "d4b02d7e",
   "metadata": {},
   "outputs": [],
   "source": [
    "grades = pd.Series([18, 17, 20, 15.5, 19], index=['Ali', 'Sara', 'Reza', 'Maryam', 'Hassan'])\n",
    "print(grades)"
   ]
  },
  {
   "cell_type": "markdown",
   "id": "c718f200",
   "metadata": {},
   "source": [
    "2. Create a DataFrame with employee names, salaries, and departments."
   ]
  },
  {
   "cell_type": "code",
   "execution_count": null,
   "id": "9f7a6dc5",
   "metadata": {},
   "outputs": [],
   "source": [
    "employees = pd.DataFrame({\n",
    "    'Name': ['John', 'Linda', 'Tom'],\n",
    "    'Salary': [5000, 6000, 5500],\n",
    "    'Department': ['IT', 'HR', 'Finance']\n",
    "})\n",
    "print(employees)"
   ]
  },
  {
   "cell_type": "markdown",
   "id": "2beb7615",
   "metadata": {},
   "source": [
    "## Summary\n",
    "In this lesson, you learned:\n",
    "- A Series is a one-dimensional labeled array.\n",
    "- A DataFrame is a two-dimensional table.\n",
    "- How to create and access data in both.\n",
    "- How to convert between Series and DataFrame.\n",
    "\n",
    "👉 In the next lesson, you will learn how to read data from files like CSV, Excel, and JSON!"
   ]
  }
 ],
 "metadata": {
  "kernelspec": {
   "display_name": "Python 3 (ipykernel)",
   "language": "python",
   "name": "python3"
  },
  "language_info": {
   "codemirror_mode": {
    "name": "ipython",
    "version": 3
   },
   "file_extension": ".py",
   "mimetype": "text/x-python",
   "name": "python",
   "nbconvert_exporter": "python",
   "pygments_lexer": "ipython3",
   "version": "3.10.10"
  }
 },
 "nbformat": 4,
 "nbformat_minor": 5
}
