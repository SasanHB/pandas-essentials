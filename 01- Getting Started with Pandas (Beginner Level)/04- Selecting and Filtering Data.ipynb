{
 "cells": [
  {
   "cell_type": "markdown",
   "id": "50858517",
   "metadata": {},
   "source": [
    "# 📓 Lesson 4: Selecting and Filtering Data"
   ]
  },
  {
   "cell_type": "markdown",
   "id": "c74f85f7",
   "metadata": {},
   "source": [
    "📘 What you will learn:\n",
    "In this lesson, you will learn:\n",
    "1. How to select rows and columns from a DataFrame\n",
    "2. How to use loc and iloc for selection\n",
    "3. How to filter rows based on conditions\n",
    "4. How to use functions like isin(), between(), and query()"
   ]
  },
  {
   "cell_type": "markdown",
   "id": "ab9db215",
   "metadata": {},
   "source": [
    "## 📁 Step 1: Load the sample dataset\n",
    "We will use the file Sales_January_2019.csv from the \"data/\" folder."
   ]
  },
  {
   "cell_type": "code",
   "execution_count": null,
   "id": "eeed0af7",
   "metadata": {},
   "outputs": [],
   "source": [
    "import pandas as pd\n",
    "\n",
    "df = pd.read_csv('../data/Sales_January_2019.csv')\n",
    "\n",
    "# View first few rows\n",
    "print(df.head())"
   ]
  },
  {
   "cell_type": "markdown",
   "id": "e203d19b",
   "metadata": {},
   "source": [
    "## 🧱 Step 2: Selecting Columns\n",
    "You can select a single column by name:"
   ]
  },
  {
   "cell_type": "code",
   "execution_count": null,
   "id": "cc53bb7f",
   "metadata": {},
   "outputs": [],
   "source": [
    "# Select one column\n",
    "print(df['Product'])"
   ]
  },
  {
   "cell_type": "markdown",
   "id": "8b5a9b14",
   "metadata": {},
   "source": [
    "Or multiple columns:"
   ]
  },
  {
   "cell_type": "code",
   "execution_count": null,
   "id": "c1c69559",
   "metadata": {},
   "outputs": [],
   "source": [
    "# Select multiple columns\n",
    "print(df[['Product', 'Price Each']])"
   ]
  },
  {
   "cell_type": "markdown",
   "id": "d2121ab9",
   "metadata": {},
   "source": [
    "## 🔢 Step 3: Selecting Rows by Position (with iloc)\n",
    "iloc lets you select rows using index numbers:"
   ]
  },
  {
   "cell_type": "code",
   "execution_count": null,
   "id": "d043d65e",
   "metadata": {},
   "outputs": [],
   "source": [
    "# Get the first row\n",
    "print(df.iloc[0])\n",
    "\n",
    "# Get rows 0 to 4\n",
    "print(df.iloc[0:5])"
   ]
  },
  {
   "cell_type": "markdown",
   "id": "bc5ae55c",
   "metadata": {},
   "source": [
    "## 🏷 Step 4: Selecting Rows by Label (with loc)\n",
    "loc is used to select rows and columns by name/index label.\n",
    "\n",
    "Example (after setting an index):"
   ]
  },
  {
   "cell_type": "code",
   "execution_count": null,
   "id": "24402845",
   "metadata": {},
   "outputs": [],
   "source": [
    "# Set Order ID as index\n",
    "df_with_index = df.set_index('Order ID')\n",
    "\n",
    "# Get row with a specific index label\n",
    "print(df_with_index.loc['141235'])"
   ]
  },
  {
   "cell_type": "markdown",
   "id": "3be6f02f",
   "metadata": {},
   "source": [
    "💡 Tip: It is always a good idea to check \"df.dtypes\" after reading data to make sure the data type is correct.\n",
    "\n",
    " you can check index it's \"object\" or \"int\":"
   ]
  },
  {
   "cell_type": "code",
   "execution_count": null,
   "id": "34dfea0b",
   "metadata": {},
   "outputs": [],
   "source": [
    "# is it object or int?\n",
    "print(df['Order ID'].dtype) "
   ]
  },
  {
   "cell_type": "markdown",
   "id": "6ad59dc1",
   "metadata": {},
   "source": [
    "if it was \"object you should use \"str\":"
   ]
  },
  {
   "cell_type": "code",
   "execution_count": null,
   "id": "19025caf",
   "metadata": {},
   "outputs": [],
   "source": [
    "# Set Order ID as index\n",
    "df_with_index = df.set_index('Order ID')\n",
    "\n",
    "# Get row with a specific index label (str)\n",
    "print(df_with_index.loc['141235'])"
   ]
  },
  {
   "cell_type": "markdown",
   "id": "870f8d14",
   "metadata": {},
   "source": [
    "you can convert it to \"int\" before set_index\n",
    "\n",
    "(if you want to work with int index for sure)"
   ]
  },
  {
   "cell_type": "code",
   "execution_count": null,
   "id": "77476c8a",
   "metadata": {},
   "outputs": [],
   "source": [
    "df['Order ID'] = pd.to_numeric(df['Order ID'], errors='coerce')\n",
    "df_with_index = df.set_index('Order ID')\n",
    "print(df_with_index.loc[141235])"
   ]
  },
  {
   "cell_type": "markdown",
   "id": "4834cedf",
   "metadata": {},
   "source": [
    "💡errors='coerce' causes data to be converted to NaN if it cannot be converted (suitable for removing bad rows)\n",
    "\n",
    "💡 After conversion, it is better to remove the rows that become NaN to avoid problems in the analysis:"
   ]
  },
  {
   "cell_type": "markdown",
   "id": "e04a4872",
   "metadata": {},
   "source": [
    "🛠 Final proposed version (safe and understandable)"
   ]
  },
  {
   "cell_type": "code",
   "execution_count": null,
   "id": "1175d793",
   "metadata": {},
   "outputs": [],
   "source": [
    "# Convert Order ID to numeric (in case it’s string)\n",
    "df['Order ID'] = pd.to_numeric(df['Order ID'], errors='coerce')\n",
    "\n",
    "# Drop NaNs if needed\n",
    "df_clean = df.dropna(subset=['Order ID'])\n",
    "\n",
    "# Set index\n",
    "df_with_index = df_clean.set_index('Order ID')\n",
    "\n",
    "# Safely check existence\n",
    "order_id = 141235\n",
    "if order_id in df_with_index.index:\n",
    "    print(df_with_index.loc[order_id])\n",
    "else:\n",
    "    print(f\"Order ID {order_id} not found.\")"
   ]
  },
  {
   "cell_type": "markdown",
   "id": "cb7961b6",
   "metadata": {},
   "source": [
    "💡 Tip: checking what indexes we have."
   ]
  },
  {
   "cell_type": "code",
   "execution_count": null,
   "id": "bfe25858",
   "metadata": {},
   "outputs": [],
   "source": [
    "print(df['Order ID'].dropna().unique())"
   ]
  },
  {
   "cell_type": "markdown",
   "id": "e0e5d161",
   "metadata": {},
   "source": [
    "🔸 If index is not set, you can still use .loc with conditions (see below)."
   ]
  },
  {
   "cell_type": "markdown",
   "id": "139a609c",
   "metadata": {},
   "source": [
    "## 🧪 Step 5: Filtering Rows with Conditions\n",
    "\n",
    "You can filter rows based on a condition:"
   ]
  },
  {
   "cell_type": "code",
   "execution_count": null,
   "id": "c8706a84",
   "metadata": {},
   "outputs": [],
   "source": [
    "# Convert column index to integer\n",
    "df['Quantity Ordered'] = pd.to_numeric(df['Quantity Ordered'], errors='coerce')\n",
    "\n",
    "# Remove bad rows (NaNs)\n",
    "df = df.dropna(subset=['Quantity Ordered'])\n",
    "\n",
    "# Find all orders where quantity is more than 5\n",
    "print(df[df['Quantity Ordered'] > 5])"
   ]
  },
  {
   "cell_type": "markdown",
   "id": "5f63a575",
   "metadata": {},
   "source": [
    "You can combine conditions with & (and) and | (or):"
   ]
  },
  {
   "cell_type": "code",
   "execution_count": null,
   "id": "c9c264e1",
   "metadata": {},
   "outputs": [],
   "source": [
    "# Orders in San Francisco and quantity > 2\n",
    "filtered = df[(df['Purchase Address'].str.contains('San Francisco')) & (df['Quantity Ordered'] > 2)]\n",
    "print(filtered.head())\n"
   ]
  },
  {
   "cell_type": "markdown",
   "id": "16231fb8",
   "metadata": {},
   "source": [
    "## 🔍 Step 6: Using isin() and between()\n",
    "\n",
    "Use isin() to match values from a list:"
   ]
  },
  {
   "cell_type": "code",
   "execution_count": null,
   "id": "d7ef7059",
   "metadata": {},
   "outputs": [],
   "source": [
    "# Orders of specific products\n",
    "products = ['USB-C Charging Cable', 'Bose SoundSport Headphones']\n",
    "print(df[df['Product'].isin(products)])"
   ]
  },
  {
   "cell_type": "markdown",
   "id": "3101b68e",
   "metadata": {},
   "source": [
    "Use between() for range filtering:"
   ]
  },
  {
   "cell_type": "code",
   "execution_count": null,
   "id": "217dc028",
   "metadata": {},
   "outputs": [],
   "source": [
    "# Ensure 'Price Each' is numeric\n",
    "df['Price Each'] = pd.to_numeric(df['Price Each'], errors='coerce')\n",
    "\n",
    "# Drop rows with NaN values\n",
    "df = df.dropna(subset=['Price Each'])\n",
    "\n",
    "# Now safely filter with between\n",
    "filtered = df[df['Price Each'].between(10, 100)]\n",
    "\n",
    "print(filtered.head())"
   ]
  },
  {
   "cell_type": "markdown",
   "id": "fa9e53ed",
   "metadata": {},
   "source": [
    "## 🧠 Step 7: Using .query() for cleaner filtering\n",
    "\n",
    "Pandas supports SQL-like syntax with query():"
   ]
  },
  {
   "cell_type": "code",
   "execution_count": null,
   "id": "f1a28ad5",
   "metadata": {},
   "outputs": [],
   "source": [
    "# Same as above using query\n",
    "result = df.query(\"`Product` == 'Macbook Pro Laptop' and `Price Each` > 1000\")\n",
    "print(result.head())\n"
   ]
  },
  {
   "cell_type": "markdown",
   "id": "93682acd",
   "metadata": {},
   "source": [
    "You can use backticks ` if column names have spaces."
   ]
  },
  {
   "cell_type": "markdown",
   "id": "09e7f91b",
   "metadata": {},
   "source": [
    "## 🧠 Practice Exercises\n",
    "1. Show all orders from New York with quantity over 3\n",
    "2. Select only the 'Product' and 'Price Each' columns from those orders\n",
    "3. Show orders where price is between $50 and $150\n",
    "4. Use .query() to find orders for 'iPhone' that cost more than $600"
   ]
  },
  {
   "cell_type": "code",
   "execution_count": null,
   "id": "795bce79",
   "metadata": {},
   "outputs": [],
   "source": [
    "# 1\n",
    "ny_orders = df[(df['Purchase Address'].str.contains('New York')) & (df['Quantity Ordered'] > 3)]\n",
    "\n",
    "# 2\n",
    "print(ny_orders[['Product', 'Price Each']])\n",
    "\n",
    "# 3\n",
    "print(df[df['Price Each'].between(50, 150)])\n",
    "\n",
    "# 4\n",
    "print(df.query(\"`Product` == 'iPhone' and `Price Each` > 600\"))\n"
   ]
  },
  {
   "cell_type": "markdown",
   "id": "63c1ff5a",
   "metadata": {},
   "source": [
    "## 📌 Summary\n",
    "\n",
    "In this lesson, you learned how to:\n",
    "- Select columns using []\n",
    "- Select rows using iloc and loc\n",
    "- Filter rows based on conditions\n",
    "- Use isin(), between(), and query() for advanced filtering\n",
    "\n",
    "👉 In the next lesson, we’ll clean our data by removing or fixing missing and duplicate values."
   ]
  }
 ],
 "metadata": {
  "kernelspec": {
   "display_name": "Python 3 (ipykernel)",
   "language": "python",
   "name": "python3"
  },
  "language_info": {
   "codemirror_mode": {
    "name": "ipython",
    "version": 3
   },
   "file_extension": ".py",
   "mimetype": "text/x-python",
   "name": "python",
   "nbconvert_exporter": "python",
   "pygments_lexer": "ipython3",
   "version": "3.10.10"
  }
 },
 "nbformat": 4,
 "nbformat_minor": 5
}
