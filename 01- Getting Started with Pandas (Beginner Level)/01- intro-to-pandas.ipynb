{
 "cells": [
  {
   "cell_type": "markdown",
   "id": "184116fb",
   "metadata": {},
   "source": [
    "# 📓 Lesson 1: Introduction to Pandas\n",
    "\n",
    "📘 What you will learn:\n",
    "1. What is Pandas?\n",
    "2. Why is it useful for data analysis?\n",
    "3. How to install Pandas and Jupyter Notebook\n",
    "4. How to write your first Pandas code"
   ]
  },
  {
   "cell_type": "markdown",
   "id": "7dcb28c5",
   "metadata": {},
   "source": [
    "## 🔧 Step 1: Install Pandas and Jupyter\n",
    "You can install them using pip:"
   ]
  },
  {
   "cell_type": "code",
   "execution_count": null,
   "id": "015d59b0",
   "metadata": {
    "vscode": {
     "languageId": "powershell"
    }
   },
   "outputs": [],
   "source": [
    "pip install pandas notebook"
   ]
  },
  {
   "cell_type": "markdown",
   "id": "9455bf74",
   "metadata": {},
   "source": [
    "## ✅ Step 2: Import the Pandas library"
   ]
  },
  {
   "cell_type": "code",
   "execution_count": null,
   "id": "bc141032",
   "metadata": {},
   "outputs": [],
   "source": [
    "import pandas as pd"
   ]
  },
  {
   "cell_type": "markdown",
   "id": "699b1df3",
   "metadata": {},
   "source": [
    "## ✅ Step 3: Check the version of Pandas"
   ]
  },
  {
   "cell_type": "code",
   "execution_count": null,
   "id": "c3665b13",
   "metadata": {},
   "outputs": [],
   "source": [
    "print(\"Pandas version:\", pd.__version__)"
   ]
  },
  {
   "cell_type": "markdown",
   "id": "7ac19b4f",
   "metadata": {},
   "source": [
    "## ✅ Step 4: Create your first Series\n",
    "A Series is a one-dimensional array with labels (called index)."
   ]
  },
  {
   "cell_type": "code",
   "execution_count": null,
   "id": "9e4b60e2",
   "metadata": {},
   "outputs": [],
   "source": [
    "s = pd.Series([10, 20, 30])\n",
    "print(s)"
   ]
  },
  {
   "cell_type": "markdown",
   "id": "f7b8603b",
   "metadata": {},
   "source": [
    "## ✅ Step 5: Create your first DataFrame\n",
    "A DataFrame is like a table with rows and columns."
   ]
  },
  {
   "cell_type": "code",
   "execution_count": null,
   "id": "2e98417f",
   "metadata": {},
   "outputs": [],
   "source": [
    "data = {\n",
    "    'Name': ['Ali', 'Sara', 'Reza'],\n",
    "    'Age': [23, 31, 29],\n",
    "    'City': ['Tehran', 'Shiraz', 'Tabriz']\n",
    "}\n",
    "\n",
    "df = pd.DataFrame(data)\n",
    "print(df)"
   ]
  },
  {
   "cell_type": "markdown",
   "id": "b9daec4c",
   "metadata": {},
   "source": [
    "## Practice Exercise\n",
    "1. Create a Series with 5 numbers and use labels A, B, C, D, E:"
   ]
  },
  {
   "cell_type": "code",
   "execution_count": null,
   "id": "f286469f",
   "metadata": {},
   "outputs": [],
   "source": [
    "numbers = [100, 200, 300, 400, 500]\n",
    "labels = ['A', 'B', 'C', 'D', 'E']\n",
    "\n",
    "custom_series = pd.Series(numbers, index=labels)\n",
    "print(custom_series)"
   ]
  },
  {
   "cell_type": "markdown",
   "id": "2ec5f643",
   "metadata": {},
   "source": [
    "## Summary\n",
    "\n",
    "In this lesson, you learned:\n",
    "\n",
    "- What Pandas is and why it's helpful\n",
    "- How to install Pandas and Jupyter\n",
    "- How to import Pandas and check the version\n",
    "- How to create your first Series and DataFrame\n",
    "- A small practice exercise to try it yourself\n",
    "\n",
    "👉 In the next lesson, you will learn more about Series and DataFrames in detail."
   ]
  },
  {
   "cell_type": "markdown",
   "id": "2f974701",
   "metadata": {},
   "source": []
  }
 ],
 "metadata": {
  "kernelspec": {
   "display_name": "venv",
   "language": "python",
   "name": "python3"
  },
  "language_info": {
   "codemirror_mode": {
    "name": "ipython",
    "version": 3
   },
   "file_extension": ".py",
   "mimetype": "text/x-python",
   "name": "python",
   "nbconvert_exporter": "python",
   "pygments_lexer": "ipython3",
   "version": "3.10.10"
  }
 },
 "nbformat": 4,
 "nbformat_minor": 5
}
