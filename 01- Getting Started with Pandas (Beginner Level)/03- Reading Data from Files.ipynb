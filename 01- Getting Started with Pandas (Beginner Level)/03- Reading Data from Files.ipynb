{
 "cells": [
  {
   "cell_type": "markdown",
   "id": "8dbda97b",
   "metadata": {},
   "source": [
    "# 📓 Lesson 3: Reading Data from Files\n",
    "📘 What you will learn:\n",
    "1. How to read data from different file types\n",
    "2. How to use functions like read_csv(), read_excel(), read_json()\n",
    "3. How to explore and understand the data using head(), tail(), info(), and describe()"
   ]
  },
  {
   "cell_type": "markdown",
   "id": "8891a173",
   "metadata": {},
   "source": [
<<<<<<< HEAD
    "## Step 1: Read a CSV File\n",
=======
    "## 📂 Step 1: Read a CSV File\n",
>>>>>>> ce08bad06138c8e5e11b27a2e7c2624db5823205
    "The most common format for data is CSV (Comma Separated Values).\n",
    "Let’s read a file called Sales_January_2019.csv.\n",
    "\n",
    "! Make sure the file is in your data/ folder."
   ]
  },
  {
   "cell_type": "code",
   "execution_count": null,
   "id": "dae19614",
   "metadata": {},
   "outputs": [],
   "source": [
    "import pandas as pd\n",
    "\n",
    "# Read a CSV file from the data folder\n",
    "csv_df = pd.read_csv('../data/Sales_January_2019.csv')\n",
    "\n",
    "# Show the first 5 rows of the dataset\n",
    "print(csv_df.head())"
   ]
  },
  {
   "cell_type": "markdown",
   "id": "b174e230",
   "metadata": {},
   "source": [
<<<<<<< HEAD
    "What this does:\n",
=======
    "📌 What this does:\n",
>>>>>>> ce08bad06138c8e5e11b27a2e7c2624db5823205
    "\n",
    "- Loads the file into a DataFrame\n",
    "- Automatically detects column names and values\n",
    "- Displays the top 5 rows to give you an idea of the content"
   ]
  },
  {
   "cell_type": "markdown",
   "id": "b5ca1658",
   "metadata": {},
   "source": [
<<<<<<< HEAD
    "## Step 2: Reading Excel Files\n",
=======
    "## 📊 Step 2: Reading Excel Files\n",
>>>>>>> ce08bad06138c8e5e11b27a2e7c2624db5823205
    "If your data is in .xlsx format (Excel), you can read it using read_excel().\n",
    "\n",
    "! You need to install the openpyxl package to work with .xlsx files:"
   ]
  },
  {
   "cell_type": "code",
   "execution_count": null,
   "id": "491b6f76",
   "metadata": {
    "vscode": {
     "languageId": "powershell"
    }
   },
   "outputs": [],
   "source": [
    "pip install openpyxl"
   ]
  },
  {
   "cell_type": "code",
   "execution_count": null,
   "id": "08c34840",
   "metadata": {},
   "outputs": [],
   "source": [
    "# Read Excel file from the same dataset\n",
    "excel_df = pd.read_excel('../data/Sales_January_2019.xlsx')\n",
    "\n",
    "# Show the first 5 rows\n",
    "print(excel_df.head())"
   ]
  },
  {
   "cell_type": "markdown",
   "id": "60c51bdf",
   "metadata": {},
   "source": [
    "📌 Note: Excel files can have multiple sheets.\n",
    "\n",
    "You can use sheet_name='Sheet1' to select a specific one."
   ]
  },
  {
   "cell_type": "code",
   "execution_count": null,
   "id": "7d652519",
   "metadata": {},
   "outputs": [],
   "source": [
    "# Read a specific sheet from Excel (if there is more than one)\n",
    "df_sheet = pd.read_excel('../data/example_with_sheets.xlsx', sheet_name='January Sales')\n",
    "\n",
    "# Show the first few rows\n",
    "print(df_sheet.head())"
   ]
  },
  {
   "cell_type": "markdown",
   "id": "8d2f1fb1",
   "metadata": {},
   "source": [
    "📌 Tip: You can also use sheet_name=None to read all sheets as a dictionary:"
   ]
  },
  {
   "cell_type": "code",
   "execution_count": null,
   "id": "84b84d93",
   "metadata": {},
   "outputs": [],
   "source": [
    "# Read all sheets into a dictionary of DataFrames\n",
    "all_sheets = pd.read_excel('../data/example_with_sheets.xlsx', sheet_name=None)\n",
    "\n",
    "# Check available sheet names\n",
    "print(\"Sheets:\", all_sheets.keys())\n",
    "\n",
    "# Access one of them\n",
    "print(all_sheets['January Sales'].head())"
   ]
  },
  {
   "cell_type": "markdown",
   "id": "de0e0734",
   "metadata": {},
   "source": [
<<<<<<< HEAD
    "## Step 3: Reading JSON Files\n",
=======
    "## 🌐 Step 3: Reading JSON Files\n",
>>>>>>> ce08bad06138c8e5e11b27a2e7c2624db5823205
    "JSON (JavaScript Object Notation) is commonly used in APIs and web apps."
   ]
  },
  {
   "cell_type": "code",
   "execution_count": null,
   "id": "3ec7ac75",
   "metadata": {},
   "outputs": [],
   "source": [
    "# Read JSON file (already structured in records format)\n",
    "json_df = pd.read_json('../data/Sales_January_2019.json', lines=True)\n",
    "\n",
    "# Display the first 5 rows\n",
    "print(json_df.head())\n"
   ]
  },
  {
   "cell_type": "markdown",
   "id": "8a65d94f",
   "metadata": {},
   "source": [
    "📌 The \"lines=True\" parameter tells Pandas that the file contains one JSON record per line. This is often called \"JSON Lines\" format.\n",
    "\n",
    "💡 Note:\n",
    "If your JSON file is structured as a complete list (starts with [ and ends with ]), you do not need to use \"lines=True\".\n",
    "\n",
<<<<<<< HEAD
    "Example of standard JSON (array format):"
=======
    "📄 Example of standard JSON (array format):"
>>>>>>> ce08bad06138c8e5e11b27a2e7c2624db5823205
   ]
  },
  {
   "cell_type": "code",
   "execution_count": null,
   "id": "7ebb6d0e",
   "metadata": {},
   "outputs": [],
   "source": [
    "[\n",
    "  {\"Name\": \"Ali\", \"Age\": 25},\n",
    "  {\"Name\": \"Sara\", \"Age\": 30}\n",
    "]"
   ]
  },
  {
   "cell_type": "code",
   "execution_count": null,
   "id": "7d9973cf",
   "metadata": {},
   "outputs": [],
   "source": [
    "# Read JSON file \n",
    "df = pd.read_json('../data/json-array-format.json')\n",
    "\n",
    "# Display the first 5 rows\n",
    "print(json_df.head())"
   ]
  },
  {
   "cell_type": "markdown",
   "id": "c185c42d",
   "metadata": {},
   "source": [
    "But for JSON Lines format (each record on a new line), use:"
   ]
  },
  {
   "cell_type": "code",
   "execution_count": null,
   "id": "b7f6d990",
   "metadata": {},
   "outputs": [],
   "source": [
    "json_df = pd.read_json('../data/Sales_January_2019.json', lines=True)"
   ]
  },
  {
   "cell_type": "markdown",
   "id": "855ed740",
   "metadata": {},
   "source": [
<<<<<<< HEAD
    "## Step 4: Exploring the Dataset\n",
=======
    "## 🧪 Step 4: Exploring the Dataset\n",
>>>>>>> ce08bad06138c8e5e11b27a2e7c2624db5823205
    "After loading the data, you should explore its structure and content:"
   ]
  },
  {
   "cell_type": "code",
   "execution_count": null,
   "id": "b9f4a82b",
   "metadata": {},
   "outputs": [],
   "source": [
    "# Show first 5 rows\n",
    "print(csv_df.head())\n",
    "\n",
    "# Show last 5 rows\n",
    "print(csv_df.tail())\n",
    "\n",
    "# Show number of rows and columns\n",
    "print(\"Shape:\", csv_df.shape)\n",
    "\n",
    "# Show column names and data types\n",
    "print(\"Info:\")\n",
    "print(csv_df.info())\n",
    "\n",
    "# Get summary statistics for numerical columns\n",
    "print(\"Describe:\")\n",
    "print(csv_df.describe())"
   ]
  },
  {
   "cell_type": "markdown",
   "id": "ceb93e82",
   "metadata": {},
   "source": [
<<<<<<< HEAD
    "## Practice Exercises\n",
=======
    "## 🧠 Practice Exercises\n",
>>>>>>> ce08bad06138c8e5e11b27a2e7c2624db5823205
    "Use the file Sales_January_2019 in three formats (CSV, XLSX, JSON) and:\n",
    "1. Load each format using the proper Pandas function\n",
    "2. Print the first 10 rows\n",
    "3. Print the number of rows and columns\n",
    "4. Print the column names\n",
    "5. Compare whether all formats load the same data correctly"
   ]
  },
  {
   "cell_type": "code",
   "execution_count": null,
   "id": "f21ba493",
   "metadata": {},
   "outputs": [],
   "source": [
    "# Load CSV\n",
    "df_csv = pd.read_csv('../data/Sales_January_2019.csv')\n",
    "print(\"CSV Sample:\\n\", df_csv.head(10))\n",
    "print(\"CSV Shape:\", df_csv.shape)\n",
    "\n",
    "# Load Excel\n",
    "df_excel = pd.read_excel('../data/Sales_January_2019.xlsx')\n",
    "print(\"Excel Sample:\\n\", df_excel.head(10))\n",
    "print(\"Excel Shape:\", df_excel.shape)\n",
    "\n",
    "# Load JSON\n",
    "df_json = pd.read_json('../data/Sales_January_2019.json', lines=True)\n",
    "print(\"JSON Sample:\\n\", df_json.head(10))\n",
    "print(\"JSON Shape:\", df_json.shape)\n"
   ]
  },
  {
   "cell_type": "markdown",
   "id": "0520093b",
   "metadata": {},
   "source": [
<<<<<<< HEAD
    "## Summary\n",
=======
    "## 📌 Summary\n",
>>>>>>> ce08bad06138c8e5e11b27a2e7c2624db5823205
    "In this lesson, you learned how to:\n",
    "- Load different types of data files (CSV, Excel, JSON)\n",
    "- Use Pandas functions like read_csv(), read_excel(), read_json()\n",
    "- Explore the structure and contents of a dataset with head(), info(), and describe()\n",
    "\n",
    "👉 In the next lesson, you’ll learn how to filter data, select specific columns or rows, and work with conditions using loc, iloc, and query()."
   ]
  }
 ],
 "metadata": {
  "kernelspec": {
<<<<<<< HEAD
   "display_name": "venv",
=======
   "display_name": "Python 3 (ipykernel)",
>>>>>>> ce08bad06138c8e5e11b27a2e7c2624db5823205
   "language": "python",
   "name": "python3"
  },
  "language_info": {
   "codemirror_mode": {
    "name": "ipython",
    "version": 3
   },
   "file_extension": ".py",
   "mimetype": "text/x-python",
   "name": "python",
   "nbconvert_exporter": "python",
   "pygments_lexer": "ipython3",
   "version": "3.10.10"
  }
 },
 "nbformat": 4,
 "nbformat_minor": 5
}
