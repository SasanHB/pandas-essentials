{
 "cells": [
  {
   "cell_type": "markdown",
   "id": "8dbda97b",
   "metadata": {},
   "source": [
    "# 📓 Lesson 3: Reading Data from Files\n",
    "📘 What you will learn:\n",
    "1. How to read data from different file types\n",
    "2. How to use functions like read_csv(), read_excel(), read_json()\n",
    "3. How to explore and understand the data using head(), tail(), info(), and describe()"
   ]
  },
  {
   "cell_type": "markdown",
   "id": "8891a173",
   "metadata": {},
   "source": [
    "## 📂 Step 1: Read a CSV File\n",
    "The most common format for data is CSV (Comma Separated Values).\n",
    "Let’s read a file called Sales_January_2019.csv.\n",
    "\n",
    "! Make sure the file is in your data/ folder."
   ]
  },
  {
   "cell_type": "code",
   "execution_count": 4,
   "id": "dae19614",
   "metadata": {},
   "outputs": [
    {
     "name": "stdout",
     "output_type": "stream",
     "text": [
      "  Order ID                   Product Quantity Ordered Price Each  \\\n",
      "0   141234                    iPhone                1        700   \n",
      "1   141235  Lightning Charging Cable                1      14.95   \n",
      "2   141236          Wired Headphones                2      11.99   \n",
      "3   141237          27in FHD Monitor                1     149.99   \n",
      "4   141238          Wired Headphones                1      11.99   \n",
      "\n",
      "       Order Date                       Purchase Address  \n",
      "0  01/22/19 21:25        944 Walnut St, Boston, MA 02215  \n",
      "1  01/28/19 14:15       185 Maple St, Portland, OR 97035  \n",
      "2  01/17/19 13:33  538 Adams St, San Francisco, CA 94016  \n",
      "3  01/05/19 20:33     738 10th St, Los Angeles, CA 90001  \n",
      "4  01/25/19 11:59          387 10th St, Austin, TX 73301  \n"
     ]
    }
   ],
   "source": [
    "import pandas as pd\n",
    "\n",
    "# Read a CSV file from the data folder\n",
    "csv_df = pd.read_csv('../data/Sales_January_2019.csv')\n",
    "\n",
    "# Show the first 5 rows of the dataset\n",
    "print(csv_df.head())"
   ]
  },
  {
   "cell_type": "markdown",
   "id": "b174e230",
   "metadata": {},
   "source": [
    "📌 What this does:\n",
    "\n",
    "- Loads the file into a DataFrame\n",
    "- Automatically detects column names and values\n",
    "- Displays the top 5 rows to give you an idea of the content"
   ]
  },
  {
   "cell_type": "markdown",
   "id": "b5ca1658",
   "metadata": {},
   "source": [
    "## 📊 Step 2: Reading Excel Files\n",
    "If your data is in .xlsx format (Excel), you can read it using read_excel().\n",
    "\n",
    "! You need to install the openpyxl package to work with .xlsx files:"
   ]
  },
  {
   "cell_type": "code",
   "execution_count": null,
   "id": "491b6f76",
   "metadata": {
    "vscode": {
     "languageId": "powershell"
    }
   },
   "outputs": [
    {
     "name": "stdout",
     "output_type": "stream",
     "text": [
      "Requirement already satisfied: openpyxl in e:\\projects\\panda-essentials\\python-essentials\\venv\\lib\\site-packages (3.1.5)Note: you may need to restart the kernel to use updated packages.\n",
      "\n",
      "Requirement already satisfied: et-xmlfile in e:\\projects\\panda-essentials\\python-essentials\\venv\\lib\\site-packages (from openpyxl) (2.0.0)\n"
     ]
    }
   ],
   "source": [
    "pip install openpyxl"
   ]
  },
  {
   "cell_type": "code",
   "execution_count": 5,
   "id": "08c34840",
   "metadata": {},
   "outputs": [
    {
     "name": "stdout",
     "output_type": "stream",
     "text": [
      "  Order ID                   Product Quantity Ordered Price Each  \\\n",
      "0   141234                    iPhone                1        700   \n",
      "1   141235  Lightning Charging Cable                1      14.95   \n",
      "2   141236          Wired Headphones                2      11.99   \n",
      "3   141237          27in FHD Monitor                1     149.99   \n",
      "4   141238          Wired Headphones                1      11.99   \n",
      "\n",
      "       Order Date                       Purchase Address  \n",
      "0  01/22/19 21:25        944 Walnut St, Boston, MA 02215  \n",
      "1  01/28/19 14:15       185 Maple St, Portland, OR 97035  \n",
      "2  01/17/19 13:33  538 Adams St, San Francisco, CA 94016  \n",
      "3  01/05/19 20:33     738 10th St, Los Angeles, CA 90001  \n",
      "4  01/25/19 11:59          387 10th St, Austin, TX 73301  \n"
     ]
    }
   ],
   "source": [
    "# Read Excel file from the same dataset\n",
    "excel_df = pd.read_excel('../data/Sales_January_2019.xlsx')\n",
    "\n",
    "# Show the first 5 rows\n",
    "print(excel_df.head())"
   ]
  },
  {
   "cell_type": "markdown",
   "id": "60c51bdf",
   "metadata": {},
   "source": [
    "📌 Note: Excel files can have multiple sheets.\n",
    "\n",
    "You can use sheet_name='Sheet1' to select a specific one."
   ]
  },
  {
   "cell_type": "code",
   "execution_count": null,
   "id": "7d652519",
   "metadata": {},
   "outputs": [],
   "source": [
    "# Read a specific sheet from Excel (if there is more than one)\n",
    "df_sheet = pd.read_excel('../data/example_with_sheets.xlsx', sheet_name='January Sales')\n",
    "\n",
    "# Show the first few rows\n",
    "print(df_sheet.head())"
   ]
  },
  {
   "cell_type": "markdown",
   "id": "8d2f1fb1",
   "metadata": {},
   "source": [
    "📌 Tip: You can also use sheet_name=None to read all sheets as a dictionary:"
   ]
  },
  {
   "cell_type": "code",
   "execution_count": null,
   "id": "84b84d93",
   "metadata": {},
   "outputs": [],
   "source": [
    "# Read all sheets into a dictionary of DataFrames\n",
    "all_sheets = pd.read_excel('../data/example_with_sheets.xlsx', sheet_name=None)\n",
    "\n",
    "# Check available sheet names\n",
    "print(\"Sheets:\", all_sheets.keys())\n",
    "\n",
    "# Access one of them\n",
    "print(all_sheets['January Sales'].head())"
   ]
  },
  {
   "cell_type": "markdown",
   "id": "de0e0734",
   "metadata": {},
   "source": [
    "## 🌐 Step 3: Reading JSON Files\n",
    "JSON (JavaScript Object Notation) is commonly used in APIs and web apps."
   ]
  },
  {
   "cell_type": "code",
   "execution_count": 9,
   "id": "3ec7ac75",
   "metadata": {},
   "outputs": [
    {
     "name": "stdout",
     "output_type": "stream",
     "text": [
      "  Order ID                   Product Quantity Ordered Price Each  \\\n",
      "0   141234                    iPhone                1        700   \n",
      "1   141235  Lightning Charging Cable                1      14.95   \n",
      "2   141236          Wired Headphones                2      11.99   \n",
      "3   141237          27in FHD Monitor                1     149.99   \n",
      "4   141238          Wired Headphones                1      11.99   \n",
      "\n",
      "       Order Date                       Purchase Address  \n",
      "0  01/22/19 21:25        944 Walnut St, Boston, MA 02215  \n",
      "1  01/28/19 14:15       185 Maple St, Portland, OR 97035  \n",
      "2  01/17/19 13:33  538 Adams St, San Francisco, CA 94016  \n",
      "3  01/05/19 20:33     738 10th St, Los Angeles, CA 90001  \n",
      "4  01/25/19 11:59          387 10th St, Austin, TX 73301  \n"
     ]
    }
   ],
   "source": [
    "# Read JSON file (already structured in records format)\n",
    "json_df = pd.read_json('../data/Sales_January_2019.json', lines=True)\n",
    "\n",
    "# Display the first 5 rows\n",
    "print(json_df.head())\n"
   ]
  },
  {
   "cell_type": "markdown",
   "id": "8a65d94f",
   "metadata": {},
   "source": [
    "📌 The \"lines=True\" parameter tells Pandas that the file contains one JSON record per line. This is often called \"JSON Lines\" format.\n",
    "\n",
    "💡 Note:\n",
    "If your JSON file is structured as a complete list (starts with [ and ends with ]), you do not need to use \"lines=True\".\n",
    "\n",
    "📄 Example of standard JSON (array format):"
   ]
  },
  {
   "cell_type": "code",
   "execution_count": null,
   "id": "7ebb6d0e",
   "metadata": {},
   "outputs": [],
   "source": [
    "[\n",
    "  {\"Name\": \"Ali\", \"Age\": 25},\n",
    "  {\"Name\": \"Sara\", \"Age\": 30}\n",
    "]"
   ]
  },
  {
   "cell_type": "code",
   "execution_count": 15,
   "id": "7d9973cf",
   "metadata": {},
   "outputs": [
    {
     "name": "stdout",
     "output_type": "stream",
     "text": [
      "  Order ID                   Product Quantity Ordered Price Each  \\\n",
      "0   141234                    iPhone                1        700   \n",
      "1   141235  Lightning Charging Cable                1      14.95   \n",
      "2   141236          Wired Headphones                2      11.99   \n",
      "3   141237          27in FHD Monitor                1     149.99   \n",
      "4   141238          Wired Headphones                1      11.99   \n",
      "\n",
      "       Order Date                       Purchase Address  \n",
      "0  01/22/19 21:25        944 Walnut St, Boston, MA 02215  \n",
      "1  01/28/19 14:15       185 Maple St, Portland, OR 97035  \n",
      "2  01/17/19 13:33  538 Adams St, San Francisco, CA 94016  \n",
      "3  01/05/19 20:33     738 10th St, Los Angeles, CA 90001  \n",
      "4  01/25/19 11:59          387 10th St, Austin, TX 73301  \n"
     ]
    }
   ],
   "source": [
    "# Read JSON file \n",
    "df = pd.read_json('../data/json-array-format.json')\n",
    "\n",
    "# Display the first 5 rows\n",
    "print(json_df.head())"
   ]
  },
  {
   "cell_type": "markdown",
   "id": "c185c42d",
   "metadata": {},
   "source": [
    "But for JSON Lines format (each record on a new line), use:"
   ]
  },
  {
   "cell_type": "code",
   "execution_count": 13,
   "id": "b7f6d990",
   "metadata": {},
   "outputs": [],
   "source": [
    "json_df = pd.read_json('../data/Sales_January_2019.json', lines=True)"
   ]
  },
  {
   "cell_type": "markdown",
   "id": "855ed740",
   "metadata": {},
   "source": [
    "## 🧪 Step 4: Exploring the Dataset\n",
    "After loading the data, you should explore its structure and content:"
   ]
  },
  {
   "cell_type": "code",
   "execution_count": 16,
   "id": "b9f4a82b",
   "metadata": {},
   "outputs": [
    {
     "name": "stdout",
     "output_type": "stream",
     "text": [
      "  Order ID                   Product Quantity Ordered Price Each  \\\n",
      "0   141234                    iPhone                1        700   \n",
      "1   141235  Lightning Charging Cable                1      14.95   \n",
      "2   141236          Wired Headphones                2      11.99   \n",
      "3   141237          27in FHD Monitor                1     149.99   \n",
      "4   141238          Wired Headphones                1      11.99   \n",
      "\n",
      "       Order Date                       Purchase Address  \n",
      "0  01/22/19 21:25        944 Walnut St, Boston, MA 02215  \n",
      "1  01/28/19 14:15       185 Maple St, Portland, OR 97035  \n",
      "2  01/17/19 13:33  538 Adams St, San Francisco, CA 94016  \n",
      "3  01/05/19 20:33     738 10th St, Los Angeles, CA 90001  \n",
      "4  01/25/19 11:59          387 10th St, Austin, TX 73301  \n",
      "     Order ID                 Product Quantity Ordered Price Each  \\\n",
      "9718   150497            20in Monitor                1     109.99   \n",
      "9719   150498        27in FHD Monitor                1     149.99   \n",
      "9720   150499         ThinkPad Laptop                1     999.99   \n",
      "9721   150500  AAA Batteries (4-pack)                2       2.99   \n",
      "9722   150501            Google Phone                1        600   \n",
      "\n",
      "          Order Date                     Purchase Address  \n",
      "9718  01/26/19 19:09          95 8th St, Dallas, TX 75001  \n",
      "9719  01/10/19 22:58  403 7th St, San Francisco, CA 94016  \n",
      "9720  01/21/19 14:31      214 Main St, Portland, OR 97035  \n",
      "9721  01/15/19 14:21    810 2nd St, Los Angeles, CA 90001  \n",
      "9722  01/13/19 16:43       428 Cedar St, Boston, MA 02215  \n",
      "Shape: (9723, 6)\n",
      "Info:\n",
      "<class 'pandas.core.frame.DataFrame'>\n",
      "RangeIndex: 9723 entries, 0 to 9722\n",
      "Data columns (total 6 columns):\n",
      " #   Column            Non-Null Count  Dtype \n",
      "---  ------            --------------  ----- \n",
      " 0   Order ID          9697 non-null   object\n",
      " 1   Product           9697 non-null   object\n",
      " 2   Quantity Ordered  9697 non-null   object\n",
      " 3   Price Each        9697 non-null   object\n",
      " 4   Order Date        9697 non-null   object\n",
      " 5   Purchase Address  9697 non-null   object\n",
      "dtypes: object(6)\n",
      "memory usage: 455.9+ KB\n",
      "None\n",
      "Describe:\n",
      "        Order ID               Product Quantity Ordered Price Each  \\\n",
      "count       9697                  9697             9697       9697   \n",
      "unique      9269                    20                8         19   \n",
      "top     Order ID  USB-C Charging Cable                1      11.95   \n",
      "freq          16                  1171             8795       1171   \n",
      "\n",
      "        Order Date  Purchase Address  \n",
      "count         9697              9697  \n",
      "unique        8077              9161  \n",
      "top     Order Date  Purchase Address  \n",
      "freq            16                16  \n"
     ]
    }
   ],
   "source": [
    "# Show first 5 rows\n",
    "print(csv_df.head())\n",
    "\n",
    "# Show last 5 rows\n",
    "print(csv_df.tail())\n",
    "\n",
    "# Show number of rows and columns\n",
    "print(\"Shape:\", csv_df.shape)\n",
    "\n",
    "# Show column names and data types\n",
    "print(\"Info:\")\n",
    "print(csv_df.info())\n",
    "\n",
    "# Get summary statistics for numerical columns\n",
    "print(\"Describe:\")\n",
    "print(csv_df.describe())"
   ]
  },
  {
   "cell_type": "markdown",
   "id": "ceb93e82",
   "metadata": {},
   "source": [
    "## 🧠 Practice Exercises\n",
    "Use the file Sales_January_2019 in three formats (CSV, XLSX, JSON) and:\n",
    "1. Load each format using the proper Pandas function\n",
    "2. Print the first 10 rows\n",
    "3. Print the number of rows and columns\n",
    "4. Print the column names\n",
    "5. Compare whether all formats load the same data correctly"
   ]
  },
  {
   "cell_type": "code",
   "execution_count": 18,
   "id": "f21ba493",
   "metadata": {},
   "outputs": [
    {
     "name": "stdout",
     "output_type": "stream",
     "text": [
      "CSV Sample:\n",
      "   Order ID                     Product Quantity Ordered Price Each  \\\n",
      "0   141234                      iPhone                1        700   \n",
      "1   141235    Lightning Charging Cable                1      14.95   \n",
      "2   141236            Wired Headphones                2      11.99   \n",
      "3   141237            27in FHD Monitor                1     149.99   \n",
      "4   141238            Wired Headphones                1      11.99   \n",
      "5   141239      AAA Batteries (4-pack)                1       2.99   \n",
      "6   141240      27in 4K Gaming Monitor                1     389.99   \n",
      "7   141241        USB-C Charging Cable                1      11.95   \n",
      "8   141242  Bose SoundSport Headphones                1      99.99   \n",
      "9   141243    Apple Airpods Headphones                1        150   \n",
      "\n",
      "       Order Date                         Purchase Address  \n",
      "0  01/22/19 21:25          944 Walnut St, Boston, MA 02215  \n",
      "1  01/28/19 14:15         185 Maple St, Portland, OR 97035  \n",
      "2  01/17/19 13:33    538 Adams St, San Francisco, CA 94016  \n",
      "3  01/05/19 20:33       738 10th St, Los Angeles, CA 90001  \n",
      "4  01/25/19 11:59            387 10th St, Austin, TX 73301  \n",
      "5  01/29/19 20:22   775 Willow St, San Francisco, CA 94016  \n",
      "6  01/26/19 12:16       979 Park St, Los Angeles, CA 90001  \n",
      "7  01/05/19 12:04      181 6th St, San Francisco, CA 94016  \n",
      "8  01/01/19 10:30     867 Willow St, Los Angeles, CA 90001  \n",
      "9  01/22/19 21:20  657 Johnson St, San Francisco, CA 94016  \n",
      "CSV Shape: (9723, 6)\n",
      "Excel Sample:\n",
      "   Order ID                     Product Quantity Ordered Price Each  \\\n",
      "0   141234                      iPhone                1        700   \n",
      "1   141235    Lightning Charging Cable                1      14.95   \n",
      "2   141236            Wired Headphones                2      11.99   \n",
      "3   141237            27in FHD Monitor                1     149.99   \n",
      "4   141238            Wired Headphones                1      11.99   \n",
      "5   141239      AAA Batteries (4-pack)                1       2.99   \n",
      "6   141240      27in 4K Gaming Monitor                1     389.99   \n",
      "7   141241        USB-C Charging Cable                1      11.95   \n",
      "8   141242  Bose SoundSport Headphones                1      99.99   \n",
      "9   141243    Apple Airpods Headphones                1        150   \n",
      "\n",
      "       Order Date                         Purchase Address  \n",
      "0  01/22/19 21:25          944 Walnut St, Boston, MA 02215  \n",
      "1  01/28/19 14:15         185 Maple St, Portland, OR 97035  \n",
      "2  01/17/19 13:33    538 Adams St, San Francisco, CA 94016  \n",
      "3  01/05/19 20:33       738 10th St, Los Angeles, CA 90001  \n",
      "4  01/25/19 11:59            387 10th St, Austin, TX 73301  \n",
      "5  01/29/19 20:22   775 Willow St, San Francisco, CA 94016  \n",
      "6  01/26/19 12:16       979 Park St, Los Angeles, CA 90001  \n",
      "7  01/05/19 12:04      181 6th St, San Francisco, CA 94016  \n",
      "8  01/01/19 10:30     867 Willow St, Los Angeles, CA 90001  \n",
      "9  01/22/19 21:20  657 Johnson St, San Francisco, CA 94016  \n",
      "Excel Shape: (9723, 6)\n",
      "JSON Sample:\n",
      "   Order ID                     Product Quantity Ordered Price Each  \\\n",
      "0   141234                      iPhone                1        700   \n",
      "1   141235    Lightning Charging Cable                1      14.95   \n",
      "2   141236            Wired Headphones                2      11.99   \n",
      "3   141237            27in FHD Monitor                1     149.99   \n",
      "4   141238            Wired Headphones                1      11.99   \n",
      "5   141239      AAA Batteries (4-pack)                1       2.99   \n",
      "6   141240      27in 4K Gaming Monitor                1     389.99   \n",
      "7   141241        USB-C Charging Cable                1      11.95   \n",
      "8   141242  Bose SoundSport Headphones                1      99.99   \n",
      "9   141243    Apple Airpods Headphones                1        150   \n",
      "\n",
      "       Order Date                         Purchase Address  \n",
      "0  01/22/19 21:25          944 Walnut St, Boston, MA 02215  \n",
      "1  01/28/19 14:15         185 Maple St, Portland, OR 97035  \n",
      "2  01/17/19 13:33    538 Adams St, San Francisco, CA 94016  \n",
      "3  01/05/19 20:33       738 10th St, Los Angeles, CA 90001  \n",
      "4  01/25/19 11:59            387 10th St, Austin, TX 73301  \n",
      "5  01/29/19 20:22   775 Willow St, San Francisco, CA 94016  \n",
      "6  01/26/19 12:16       979 Park St, Los Angeles, CA 90001  \n",
      "7  01/05/19 12:04      181 6th St, San Francisco, CA 94016  \n",
      "8  01/01/19 10:30     867 Willow St, Los Angeles, CA 90001  \n",
      "9  01/22/19 21:20  657 Johnson St, San Francisco, CA 94016  \n",
      "JSON Shape: (9723, 6)\n"
     ]
    }
   ],
   "source": [
    "# Load CSV\n",
    "df_csv = pd.read_csv('../data/Sales_January_2019.csv')\n",
    "print(\"CSV Sample:\\n\", df_csv.head(10))\n",
    "print(\"CSV Shape:\", df_csv.shape)\n",
    "\n",
    "# Load Excel\n",
    "df_excel = pd.read_excel('../data/Sales_January_2019.xlsx')\n",
    "print(\"Excel Sample:\\n\", df_excel.head(10))\n",
    "print(\"Excel Shape:\", df_excel.shape)\n",
    "\n",
    "# Load JSON\n",
    "df_json = pd.read_json('../data/Sales_January_2019.json', lines=True)\n",
    "print(\"JSON Sample:\\n\", df_json.head(10))\n",
    "print(\"JSON Shape:\", df_json.shape)\n"
   ]
  },
  {
   "cell_type": "markdown",
   "id": "0520093b",
   "metadata": {},
   "source": [
    "## 📌 Summary\n",
    "In this lesson, you learned how to:\n",
    "- Load different types of data files (CSV, Excel, JSON)\n",
    "- Use Pandas functions like read_csv(), read_excel(), read_json()\n",
    "- Explore the structure and contents of a dataset with head(), info(), and describe()\n",
    "\n",
    "👉 In the next lesson, you’ll learn how to filter data, select specific columns or rows, and work with conditions using loc, iloc, and query()."
   ]
  }
 ],
 "metadata": {
  "kernelspec": {
   "display_name": "venv",
   "language": "python",
   "name": "python3"
  },
  "language_info": {
   "codemirror_mode": {
    "name": "ipython",
    "version": 3
   },
   "file_extension": ".py",
   "mimetype": "text/x-python",
   "name": "python",
   "nbconvert_exporter": "python",
   "pygments_lexer": "ipython3",
   "version": "3.10.10"
  }
 },
 "nbformat": 4,
 "nbformat_minor": 5
}
