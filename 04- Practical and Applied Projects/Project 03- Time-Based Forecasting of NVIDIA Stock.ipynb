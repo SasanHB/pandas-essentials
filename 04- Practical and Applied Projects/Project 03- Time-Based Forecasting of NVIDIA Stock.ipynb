{
 "cells": [
  {
   "cell_type": "markdown",
   "id": "e4d2784c",
   "metadata": {},
   "source": [
    "# 📈 Project 3: Time-Based Forecasting of NVIDIA Stock\n",
    "🎯 Project Goal:\n",
    "\n",
    "Use real historical stock data of NVIDIA to:\n",
    "- Explore price trends\n",
    "- Visualize volatility\n",
    "- Apply moving averages\n",
    "- Create basic predictions with rolling and expanding windows"
   ]
  },
  {
   "cell_type": "markdown",
   "id": "ebf93450",
   "metadata": {},
   "source": [
    "## 🧪 Step 1: Load and Clean the Data"
   ]
  },
  {
   "cell_type": "code",
   "execution_count": null,
   "id": "d7bd3560",
   "metadata": {},
   "outputs": [],
   "source": [
    "import pandas as pd\n",
    "\n",
    "# Load dataset\n",
    "df = pd.read_csv('../data/nvda-stock-price-2024-2025.csv')\n",
    "\n",
    "# Convert date column to datetime\n",
    "df['Date'] = pd.to_datetime(df['Date'])\n",
    "\n",
    "# Sort by date (just in case it's descending)\n",
    "df = df.sort_values('Date')\n",
    "\n",
    "# Clean Volume column: remove commas and convert to integer\n",
    "df['Volume'] = df['Volume'].str.replace(',', '').astype(int)\n",
    "\n",
    "# Set date as index\n",
    "df.set_index('Date', inplace=True)\n",
    "\n",
    "df.head()\n"
   ]
  },
  {
   "cell_type": "markdown",
   "id": "e80a8481",
   "metadata": {},
   "source": [
    "## 📊 Step 2: Plot the Closing Price"
   ]
  },
  {
   "cell_type": "code",
   "execution_count": null,
   "id": "da583b3e",
   "metadata": {},
   "outputs": [],
   "source": [
    "import matplotlib.pyplot as plt\n",
    "\n",
    "df['Close'].plot(figsize=(12, 4), title=\"NVIDIA Stock - Closing Price\")\n",
    "plt.ylabel(\"USD\")\n",
    "plt.grid(True)\n",
    "plt.show()\n"
   ]
  },
  {
   "cell_type": "markdown",
   "id": "2371f022",
   "metadata": {},
   "source": [
    "📌 Shows how the stock price changed over time."
   ]
  },
  {
   "cell_type": "markdown",
   "id": "4d67af8a",
   "metadata": {},
   "source": [
    "## 🔁 Step 3: Apply Moving Averages\n",
    "Why?\n",
    "- Smooth out short-term noise\n",
    "- Help detect long-term trends"
   ]
  },
  {
   "cell_type": "code",
   "execution_count": null,
   "id": "3547e1f7",
   "metadata": {},
   "outputs": [],
   "source": [
    "df['MA_10'] = df['Close'].rolling(window=10).mean()\n",
    "df['MA_30'] = df['Close'].rolling(window=30).mean()\n",
    "\n",
    "# Plot\n",
    "df[['Close', 'MA_10', 'MA_30']].plot(figsize=(12, 5), title=\"Close Price with Moving Averages\")\n",
    "plt.ylabel(\"USD\")\n",
    "plt.grid(True)\n",
    "plt.show()\n"
   ]
  },
  {
   "cell_type": "markdown",
   "id": "319c8722",
   "metadata": {},
   "source": [
    "📌 Compare short-term vs long-term average trends."
   ]
  },
  {
   "cell_type": "markdown",
   "id": "ccb3ffa4",
   "metadata": {},
   "source": [
    "## 📈 Step 4: Visualize Daily Price Range"
   ]
  },
  {
   "cell_type": "code",
   "execution_count": null,
   "id": "dcafb527",
   "metadata": {},
   "outputs": [],
   "source": [
    "df['Range'] = df['High'] - df['Low']\n",
    "\n",
    "df['Range'].plot(figsize=(12, 4), title='Daily Price Range')\n",
    "plt.ylabel(\"Price Difference\")\n",
    "plt.show()\n"
   ]
  },
  {
   "cell_type": "markdown",
   "id": "71e242b2",
   "metadata": {},
   "source": [
    "📌 Shows volatility – bigger range = higher uncertainty."
   ]
  },
  {
   "cell_type": "markdown",
   "id": "fa7b942e",
   "metadata": {},
   "source": [
    "## 🧮 Step 5: Calculate Daily Returns"
   ]
  },
  {
   "cell_type": "code",
   "execution_count": null,
   "id": "9ff28e61",
   "metadata": {},
   "outputs": [],
   "source": [
    "df['Daily Return (%)'] = df['Close'].pct_change() * 100\n",
    "\n",
    "df['Daily Return (%)'].plot(kind='hist', bins=50, figsize=(10, 4), title='Daily Return Distribution')\n",
    "plt.xlabel(\"Daily % Change\")\n",
    "plt.show()\n"
   ]
  },
  {
   "cell_type": "markdown",
   "id": "e0f74975",
   "metadata": {},
   "source": [
    "📌 Understand how much the stock price fluctuates in % per day."
   ]
  },
  {
   "cell_type": "markdown",
   "id": "a7aebec9",
   "metadata": {},
   "source": [
    "## 🔮 Step 6: Simple Forecasting – Expanding Mean\n",
    "We’ll forecast the next day price using expanding average:"
   ]
  },
  {
   "cell_type": "code",
   "execution_count": null,
   "id": "b9247cc7",
   "metadata": {},
   "outputs": [],
   "source": [
    "df['Expanding Mean'] = df['Close'].expanding().mean()\n",
    "\n",
    "df[['Close', 'Expanding Mean']].plot(figsize=(12, 4), title='Expanding Mean vs Close Price')\n",
    "plt.show()\n"
   ]
  },
  {
   "cell_type": "markdown",
   "id": "3cab73df",
   "metadata": {},
   "source": [
    "## 🔮 Extra Step: Forecasting Stock Price with Linear Regression\n",
    "🎯 Goal:\n",
    "- We want to use past closing prices to predict the next closing price using a Linear Regression model (simple, but common in finance)."
   ]
  },
  {
   "cell_type": "markdown",
   "id": "9597870f",
   "metadata": {},
   "source": [
    "### 🧪 Step 1: Prepare the Data\n",
    "We will predict the next day's price based on the current day's price."
   ]
  },
  {
   "cell_type": "code",
   "execution_count": null,
   "id": "9de6c748",
   "metadata": {
    "vscode": {
     "languageId": "powershell"
    }
   },
   "outputs": [],
   "source": [
    "# Install scikit-learn\n",
    "pip install scikit-learn"
   ]
  },
  {
   "cell_type": "code",
   "execution_count": null,
   "id": "eda99584",
   "metadata": {},
   "outputs": [],
   "source": [
    "from sklearn.linear_model import LinearRegression\n",
    "\n",
    "# Shift 'Close' to create the label\n",
    "df['Next Close'] = df['Close'].shift(-1)\n",
    "\n",
    "# Drop the last row (has NaN in 'Next Close')\n",
    "df_lr = df[['Close', 'Next Close']].dropna()\n",
    "\n",
    "# Split features and target\n",
    "X = df_lr[['Close']].values\n",
    "y = df_lr['Next Close'].values\n"
   ]
  },
  {
   "cell_type": "markdown",
   "id": "5e6b7632",
   "metadata": {},
   "source": [
    "### 🧪 Step 2: Train the Model"
   ]
  },
  {
   "cell_type": "code",
   "execution_count": null,
   "id": "c8b76e34",
   "metadata": {},
   "outputs": [],
   "source": [
    "model = LinearRegression()\n",
    "model.fit(X, y)"
   ]
  },
  {
   "cell_type": "markdown",
   "id": "36814bea",
   "metadata": {},
   "source": [
    "### 📈 Step 3: Predict and Visualize"
   ]
  },
  {
   "cell_type": "code",
   "execution_count": null,
   "id": "b90f14c0",
   "metadata": {},
   "outputs": [],
   "source": [
    "df_lr['Predicted'] = model.predict(X)\n",
    "\n",
    "# Plot actual vs predicted\n",
    "plt.figure(figsize=(12, 5))\n",
    "plt.plot(df_lr.index, df_lr['Next Close'], label='Actual Next Close')\n",
    "plt.plot(df_lr.index, df_lr['Predicted'], label='Predicted Next Close', alpha=0.7)\n",
    "plt.title(\"Linear Regression Forecast: Next Day Price\")\n",
    "plt.legend()\n",
    "plt.show()\n"
   ]
  },
  {
   "cell_type": "markdown",
   "id": "95d88458",
   "metadata": {},
   "source": [
    "📌 This model only looks at one variable (current price) – it’s a naive approach but useful as a baseline."
   ]
  },
  {
   "cell_type": "markdown",
   "id": "a15e6fc5",
   "metadata": {},
   "source": [
    "### 💬 Result:\n",
    "- The prediction is smooth and linear, good for short-term trend estimation\n",
    "- Not ideal for complex forecasting (no volatility, no external factors)"
   ]
  },
  {
   "cell_type": "markdown",
   "id": "6ff5e9b2",
   "metadata": {},
   "source": [
    "## 📌 Summary\n",
    "\n",
    "- In this mini-project, you learned how to:\n",
    "- Load and clean real financial time-series data\n",
    "- Visualize trends and volatility\n",
    "- Use moving averages for smoothing\n",
    "- Compute returns and ranges\n",
    "- Simulate forecasting"
   ]
  }
 ],
 "metadata": {
  "kernelspec": {
   "display_name": "Python 3 (ipykernel)",
   "language": "python",
   "name": "python3"
  },
  "language_info": {
   "codemirror_mode": {
    "name": "ipython",
    "version": 3
   },
   "file_extension": ".py",
   "mimetype": "text/x-python",
   "name": "python",
   "nbconvert_exporter": "python",
   "pygments_lexer": "ipython3",
   "version": "3.10.10"
  }
 },
 "nbformat": 4,
 "nbformat_minor": 5
}
