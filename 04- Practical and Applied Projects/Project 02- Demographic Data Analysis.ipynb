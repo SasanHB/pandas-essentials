{
 "cells": [
  {
   "cell_type": "markdown",
   "id": "ddc83f6a",
   "metadata": {},
   "source": [
    "# 🟣 Project 2: Demographic Data Analysis\n",
    "🎯 Project Goal:\n",
    "\n",
    "Analyze a real-world dataset about adults' personal information and economic status.\n",
    "\n",
    "Answer key questions such as:\n",
    "1. Which education levels earn more?\n",
    "2. Do men or women work longer hours on average?\n",
    "3. What is the income distribution across countries?\n",
    "4. Can we detect patterns in age vs income?"
   ]
  },
  {
   "cell_type": "markdown",
   "id": "fb635a61",
   "metadata": {},
   "source": [
    "## 🧪 Step 1: Load and Inspect the Dataset"
   ]
  },
  {
   "cell_type": "code",
   "execution_count": null,
   "id": "509a8a70",
   "metadata": {},
   "outputs": [],
   "source": [
    "import pandas as pd\n",
    "\n",
    "# Load dataset\n",
    "df = pd.read_csv('../data/adult-data.csv')\n",
    "\n",
    "# Show basic info\n",
    "print(df.shape)\n",
    "print(df.columns)\n",
    "print(df.head())"
   ]
  },
  {
   "cell_type": "markdown",
   "id": "9a11a4c0",
   "metadata": {},
   "source": [
    "## 🔍 Step 2: Clean the Data"
   ]
  },
  {
   "cell_type": "code",
   "execution_count": null,
   "id": "632fa9ca",
   "metadata": {},
   "outputs": [],
   "source": [
    "# Strip whitespace from column values\n",
    "df = df.applymap(lambda x: x.strip() if isinstance(x, str) else x)\n",
    "\n",
    "# Check for missing or placeholder values\n",
    "print((df == '?').sum())\n"
   ]
  },
  {
   "cell_type": "markdown",
   "id": "987c0025",
   "metadata": {},
   "source": [
    "📌 In this dataset, missing values are often marked as '?'.\n",
    "\n",
    "We will treat them as missing:"
   ]
  },
  {
   "cell_type": "code",
   "execution_count": null,
   "id": "ccf7043b",
   "metadata": {},
   "outputs": [],
   "source": [
    "# Replace '?' with NaN\n",
    "df.replace('?', pd.NA, inplace=True)\n",
    "\n",
    "# Drop rows with missing values\n",
    "df = df.dropna()\n"
   ]
  },
  {
   "cell_type": "markdown",
   "id": "64e916d0",
   "metadata": {},
   "source": [
    "## 🧠 Step 3: Simple Demographic Questions\n"
   ]
  },
  {
   "cell_type": "markdown",
   "id": "a0fcfc38",
   "metadata": {},
   "source": [
    "1. What is the average age?"
   ]
  },
  {
   "cell_type": "code",
   "execution_count": null,
   "id": "5dcdff60",
   "metadata": {},
   "outputs": [],
   "source": [
    "print(\"Average age:\", df['age'].mean())"
   ]
  },
  {
   "cell_type": "markdown",
   "id": "43936c93",
   "metadata": {},
   "source": [
    "2. What is the average working hours per week by gender?"
   ]
  },
  {
   "cell_type": "code",
   "execution_count": null,
   "id": "9721b2a6",
   "metadata": {},
   "outputs": [],
   "source": [
    "print(df.groupby('sex')['hours-per-week'].mean())"
   ]
  },
  {
   "cell_type": "markdown",
   "id": "e94f97c0",
   "metadata": {},
   "source": [
    "3. How many people work in each education level?"
   ]
  },
  {
   "cell_type": "code",
   "execution_count": null,
   "id": "b5eee9f1",
   "metadata": {},
   "outputs": [],
   "source": [
    "print(df['education'].value_counts())"
   ]
  },
  {
   "cell_type": "markdown",
   "id": "6ca6749a",
   "metadata": {},
   "source": [
    "4. Salary distribution by education"
   ]
  },
  {
   "cell_type": "code",
   "execution_count": null,
   "id": "83f454b9",
   "metadata": {},
   "outputs": [],
   "source": [
    "salary_by_education = df.groupby('education')['salary'].value_counts(normalize=True).unstack()\n",
    "print(salary_by_education)"
   ]
  },
  {
   "cell_type": "markdown",
   "id": "9e0ee39d",
   "metadata": {},
   "source": [
    "## 📈 Step 4: Visual Exploration"
   ]
  },
  {
   "cell_type": "code",
   "execution_count": null,
   "id": "0f8ad2e8",
   "metadata": {},
   "outputs": [],
   "source": [
    "import matplotlib.pyplot as plt\n",
    "import seaborn as sns\n",
    "\n",
    "# Average working hours by education\n",
    "plt.figure(figsize=(12, 4))\n",
    "sns.barplot(data=df, x='education', y='hours-per-week', errorbar=None)\n",
    "plt.xticks(rotation=90)\n",
    "plt.title('Average Working Hours by Education')\n",
    "plt.show()\n"
   ]
  },
  {
   "cell_type": "markdown",
   "id": "cc605e83",
   "metadata": {},
   "source": [
    "## 🔄 Step 5: Income Distribution by Age Group – Income vs Age"
   ]
  },
  {
   "cell_type": "code",
   "execution_count": null,
   "id": "61314165",
   "metadata": {},
   "outputs": [],
   "source": [
    "# Create age buckets\n",
    "df['age_group'] = pd.cut(\n",
    "    df['age'],\n",
    "    bins=[0, 25, 35, 50, 65, 100],\n",
    "    labels=['<25', '25-35', '35-50', '50-65', '65+']\n",
    ")\n",
    "\n",
    "# Group by age_group, then count salary values and normalize to percentage\n",
    "income_by_age = (\n",
    "    df.groupby('age_group', observed=True)['salary']\n",
    "    .value_counts(normalize=True)\n",
    "    .unstack()\n",
    ")\n",
    "\n",
    "# Plot % of people earning >50K by age group\n",
    "income_by_age['>50K'].plot(kind='bar', color='green', title='% Earning >50K by Age Group')\n",
    "plt.ylabel(\"Percentage\")\n",
    "plt.show()"
   ]
  },
  {
   "cell_type": "markdown",
   "id": "094474f3",
   "metadata": {},
   "source": [
    "📊 What this code does:\n",
    "\n",
    "It creates 5 age ranges to simplify age-based analysis.\n",
    "\n",
    "It then calculates the percentage of people in each age group who earn:\n",
    "- <=50K → lower income\n",
    "- >50K → higher income\n",
    "\n",
    "Finally, it plots only the percentage of high-income earners (>50K) by age group.\n",
    "\n",
    "🔎 Insights:\n",
    "\n",
    "- Income rises with age and peaks between 35–50 years old\n",
    "- It slightly drops after 50, and even more after 65"
   ]
  },
  {
   "cell_type": "markdown",
   "id": "0867fc6f",
   "metadata": {},
   "source": [
    "## 📊 Step 6: Income by Country"
   ]
  },
  {
   "cell_type": "code",
   "execution_count": null,
   "id": "6087f12b",
   "metadata": {},
   "outputs": [],
   "source": [
    "# Get top 10 countries with most entries\n",
    "top_countries = df['native-country'].value_counts().head(10).index\n",
    "\n",
    "# Filter to those countries\n",
    "filtered_df = df[df['native-country'].isin(top_countries)]\n",
    "\n",
    "# Plot income proportion per country\n",
    "country_income = filtered_df.groupby('native-country')['salary'].value_counts(normalize=True).unstack()\n",
    "\n",
    "country_income['>50K'].sort_values().plot(kind='barh', color='orange', title='Income >50K by Country')\n",
    "plt.xlabel(\"Percentage\")\n",
    "plt.show()\n"
   ]
  },
  {
   "cell_type": "markdown",
   "id": "1455dee1",
   "metadata": {},
   "source": [
    "## 🧠 Advanced Real-World Use Case\n"
   ]
  },
  {
   "cell_type": "markdown",
   "id": "5f907c51",
   "metadata": {},
   "source": [
    "### 🔍 Advanced Use Case 01: Scatter Plot: Hours-per-week vs Age, colored by income"
   ]
  },
  {
   "cell_type": "code",
   "execution_count": null,
   "id": "4a333235",
   "metadata": {},
   "outputs": [],
   "source": [
    "plt.figure(figsize=(10, 6))\n",
    "sns.scatterplot(data=df, x='age', y='hours-per-week', hue='salary', alpha=0.6)\n",
    "plt.title('Age vs Working Hours by Income Group')\n",
    "plt.show()\n"
   ]
  },
  {
   "cell_type": "markdown",
   "id": "268fabc2",
   "metadata": {},
   "source": [
    "📌 Helps understand if younger or older people are working more, and how that relates to income."
   ]
  },
  {
   "cell_type": "markdown",
   "id": "f89a8c88",
   "metadata": {},
   "source": [
    "### 🔍 Advanced Use Case 02: Decision-Making – Who earns more and why?\n",
    "Let’s explore combined effects of education, age, and hours on income:"
   ]
  },
  {
   "cell_type": "code",
   "execution_count": null,
   "id": "f5baa113",
   "metadata": {},
   "outputs": [],
   "source": [
    "# Create a combined feature of education and salary\n",
    "pivot = df.pivot_table(index='education', columns='salary', values='hours-per-week', aggfunc='mean')\n",
    "pivot = pivot.sort_values('>50K', ascending=False)\n",
    "pivot.plot(kind='barh', figsize=(10, 6), title=\"Avg Hours per Education Level by Salary\")\n",
    "plt.xlabel(\"Average Hours\")\n",
    "plt.grid(True)\n",
    "plt.show()\n"
   ]
  },
  {
   "cell_type": "markdown",
   "id": "912ec381",
   "metadata": {},
   "source": [
    "📌 Insight: You can see which education levels spend more hours and earn more."
   ]
  },
  {
   "cell_type": "markdown",
   "id": "9c54014f",
   "metadata": {},
   "source": [
    "### 📦 Advanced Use Case 03: Predictive Pattern — Logistic Trends\n",
    "We create a binary column high_income = 1 if salary == >50K"
   ]
  },
  {
   "cell_type": "code",
   "execution_count": null,
   "id": "1e59915c",
   "metadata": {},
   "outputs": [],
   "source": [
    "df['high_income'] = df['salary'].apply(lambda x: 1 if x == '>50K' else 0)\n",
    "\n",
    "# Average high_income rate by age\n",
    "age_income = df.groupby('age')['high_income'].mean()\n",
    "\n",
    "plt.figure(figsize=(12, 4))\n",
    "age_income.plot(title=\"Probability of >50K Income by Age\", color='green')\n",
    "plt.ylabel(\"Probability\")\n",
    "plt.grid(True)\n",
    "plt.show()\n"
   ]
  },
  {
   "cell_type": "markdown",
   "id": "2223e983",
   "metadata": {},
   "source": [
    "📌 Insight: This gives a sense of probability of high income depending on age. useful for modeling."
   ]
  },
  {
   "cell_type": "markdown",
   "id": "4fa01be4",
   "metadata": {},
   "source": [
    "### 🗂 Advanced Use Case 4: Crosstab Heatmap – Gender vs Occupation"
   ]
  },
  {
   "cell_type": "code",
   "execution_count": null,
   "id": "89370ca6",
   "metadata": {},
   "outputs": [],
   "source": [
    "# Cross-tabulation of occupation and sex\n",
    "occupation_sex = pd.crosstab(df['occupation'], df['sex'], normalize='index') * 100\n",
    "\n",
    "# Heatmap\n",
    "sns.heatmap(occupation_sex, annot=True, cmap='Blues', fmt='.1f')\n",
    "plt.title(\"Gender Proportion per Occupation (%)\")\n",
    "plt.ylabel(\"Occupation\")\n",
    "plt.show()\n"
   ]
  },
  {
   "cell_type": "markdown",
   "id": "030e2819",
   "metadata": {},
   "source": [
    "📌 Insight: Great for detecting gender imbalance in different job categories."
   ]
  },
  {
   "cell_type": "markdown",
   "id": "44a03469",
   "metadata": {},
   "source": [
    "### 📌 Final Professional Tip: Feature Engineering for Modeling\n",
    "Let’s create features that are often used in machine learning:"
   ]
  },
  {
   "cell_type": "code",
   "execution_count": null,
   "id": "eaf08688",
   "metadata": {},
   "outputs": [],
   "source": [
    "df['is_married'] = df['marital-status'].apply(lambda x: 1 if 'Married' in x else 0)\n",
    "df['has_capital_gain'] = df['capital-gain'].apply(lambda x: 1 if x > 0 else 0)\n",
    "df['work_overtime'] = df['hours-per-week'].apply(lambda x: 1 if x > 45 else 0)\n"
   ]
  },
  {
   "cell_type": "markdown",
   "id": "48d68794",
   "metadata": {},
   "source": [
    "📌 These features can later be used for predictive modeling, e.g., with scikit-learn."
   ]
  },
  {
   "cell_type": "markdown",
   "id": "5e186105",
   "metadata": {},
   "source": [
    "## 📌 Summary\n",
    "In this project, we:\n",
    "- Cleaned and processed demographic data\n",
    "- Explored education, age, gender, and salary relationships\n",
    "- Visualized distribution, patterns, and trends\n",
    "- Used both simple and advanced techniques for real-world questions"
   ]
  }
 ],
 "metadata": {
  "kernelspec": {
   "display_name": "Python 3 (ipykernel)",
   "language": "python",
   "name": "python3"
  },
  "language_info": {
   "codemirror_mode": {
    "name": "ipython",
    "version": 3
   },
   "file_extension": ".py",
   "mimetype": "text/x-python",
   "name": "python",
   "nbconvert_exporter": "python",
   "pygments_lexer": "ipython3",
   "version": "3.10.10"
  }
 },
 "nbformat": 4,
 "nbformat_minor": 5
}
