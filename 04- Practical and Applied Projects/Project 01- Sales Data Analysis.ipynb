{
 "cells": [
  {
   "cell_type": "markdown",
   "id": "bf42357e",
   "metadata": {},
   "source": [
    "# 🟣 Project 1: Sales Data Analysis\n",
    "🎯 Project Goal:\n",
    "\n",
    "You are given 12 CSV files each for one month of sales in 2019.\n",
    "\n",
    "Your goal is to analyze all this data together and answer business questions like:\n",
    "- What was the best month for sales?\n",
    "- Which city sold the most product?\n",
    "- What time should we show ads to increase sales?\n",
    "- What products are sold together?\n",
    "- Which product sold the most?\n",
    "- Which products are often bought by high-value customers?\n",
    "- What is the average basket size per order?\n",
    "- What’s the revenue share of top 20% customers (Pareto 80/20)?\n",
    "- Which products have seasonal sales patterns?\n",
    "- What product combinations happen most with high-value orders?"
   ]
  },
  {
   "cell_type": "markdown",
   "id": "bc368921",
   "metadata": {},
   "source": [
    "## 📚 Step 1: Load and Combine All Monthly Files"
   ]
  },
  {
   "cell_type": "code",
   "execution_count": null,
   "id": "dd7749fb",
   "metadata": {},
   "outputs": [],
   "source": [
    "import os\n",
    "import pandas as pd\n",
    "\n",
    "# Path to your data folder\n",
    "folder = '../data'\n",
    "files = [file for file in os.listdir(folder) if file.endswith('.csv')]\n",
    "\n",
    "# Combine all files\n",
    "all_months_data = pd.DataFrame()\n",
    "\n",
    "for file in files:\n",
    "    data = pd.read_csv(os.path.join(folder, file))\n",
    "    all_months_data = pd.concat([all_months_data, data])\n",
    "\n",
    "print(all_months_data.shape)\n",
    "print(all_months_data.head())\n"
   ]
  },
  {
   "cell_type": "markdown",
   "id": "e583bc17",
   "metadata": {},
   "source": [
    "## 🧹 Step 2: Clean the Data"
   ]
  },
  {
   "cell_type": "code",
   "execution_count": null,
   "id": "c4be9eea",
   "metadata": {},
   "outputs": [],
   "source": [
    "# Drop NaNs\n",
    "all_months_data = all_months_data.dropna(how='all')\n",
    "\n",
    "# Remove invalid rows (e.g., headers inside data)\n",
    "all_months_data = all_months_data[all_months_data['Order Date'].str[0:2] != 'Or']\n",
    "\n",
    "# Convert columns\n",
    "all_months_data['Quantity Ordered'] = pd.to_numeric(all_months_data['Quantity Ordered'], errors='coerce')\n",
    "all_months_data['Price Each'] = pd.to_numeric(all_months_data['Price Each'], errors='coerce')\n",
    "all_months_data['Order Date'] = pd.to_datetime(all_months_data['Order Date'], format='%m/%d/%y %H:%M', errors='coerce')\n",
    "\n",
    "# Add total column\n",
    "all_months_data['Total Price'] = all_months_data['Quantity Ordered'] * all_months_data['Price Each']\n"
   ]
  },
  {
   "cell_type": "markdown",
   "id": "68ea0216",
   "metadata": {},
   "source": [
    "## ⁉️ Question 01: What was the best month for sales?"
   ]
  },
  {
   "cell_type": "code",
   "execution_count": null,
   "id": "77b089ff",
   "metadata": {},
   "outputs": [],
   "source": [
    "all_months_data['Month'] = all_months_data['Order Date'].dt.month\n",
    "\n",
    "monthly_sales = all_months_data.groupby('Month')['Total Price'].sum()\n",
    "print(monthly_sales)\n",
    "monthly_sales.plot(kind='bar', title='Total Sales by Month')\n"
   ]
  },
  {
   "cell_type": "markdown",
   "id": "9910ba1e",
   "metadata": {},
   "source": [
    "## ⁉️ Question 02: What city had the highest sales?"
   ]
  },
  {
   "cell_type": "code",
   "execution_count": null,
   "id": "1db341f5",
   "metadata": {},
   "outputs": [],
   "source": [
    "# Extract city from address\n",
    "all_months_data['City'] = all_months_data['Purchase Address'].apply(lambda x: x.split(',')[1].strip())\n",
    "\n",
    "city_sales = all_months_data.groupby('City')['Total Price'].sum()\n",
    "city_sales = city_sales.sort_values(ascending=False)\n",
    "print(city_sales)\n",
    "city_sales.plot(kind='bar', title='Sales by City')\n"
   ]
  },
  {
   "cell_type": "markdown",
   "id": "b95d476b",
   "metadata": {},
   "source": [
    "## ⁉️ Question 03: What time should we advertise?"
   ]
  },
  {
   "cell_type": "code",
   "execution_count": null,
   "id": "7cdff3b1",
   "metadata": {},
   "outputs": [],
   "source": [
    "all_months_data['Hour'] = all_months_data['Order Date'].dt.hour\n",
    "\n",
    "hourly_orders = all_months_data.groupby('Hour').size()\n",
    "hourly_orders.plot(kind='line', title='Number of Orders by Hour')\n"
   ]
  },
  {
   "cell_type": "markdown",
   "id": "398eca65",
   "metadata": {},
   "source": [
    "📌 Useful for deciding when to run ads or offer discounts"
   ]
  },
  {
   "cell_type": "markdown",
   "id": "2f9a9a71",
   "metadata": {},
   "source": [
    "## 📌 Question 4: What products are most often sold together?\n",
    "🎯Goal: Check for cross-sell between products only on high-value orders\n",
    "\n",
    "This requires a little trick using duplicated Order IDs:"
   ]
  },
  {
   "cell_type": "code",
   "execution_count": null,
   "id": "fa9f25c6",
   "metadata": {},
   "outputs": [],
   "source": [
    "from collections import Counter\n",
    "import pandas as pd\n",
    "\n",
    "# Step 1: Load data if not already done\n",
    "df = pd.read_csv('../data/Sales_January_2019.csv')\n",
    "df['Order Date'] = pd.to_datetime(df['Order Date'], format='%m/%d/%y %H:%M', errors='coerce')\n",
    "df['Quantity Ordered'] = pd.to_numeric(df['Quantity Ordered'], errors='coerce')\n",
    "df['Price Each'] = pd.to_numeric(df['Price Each'], errors='coerce')\n",
    "df.dropna(subset=['Order Date', 'Quantity Ordered', 'Price Each'], inplace=True)\n",
    "df['Total Price'] = df['Quantity Ordered'] * df['Price Each']\n",
    "\n",
    "# Step 2: Filter high-value orders\n",
    "high_value = df[df['Total Price'] > 500]\n",
    "\n",
    "# Step 3: Find multi-product orders\n",
    "grouped_orders = df[df.duplicated(['Order ID'], keep=False)].copy()\n",
    "\n",
    "# Step 4: Group products into one row\n",
    "grouped_orders['Grouped'] = grouped_orders.groupby('Order ID')['Product'].transform(lambda x: ', '.join(x))\n",
    "\n",
    "# Step 5: Drop repeated rows for clean combination list\n",
    "grouped_orders = grouped_orders[['Order ID', 'Grouped']].drop_duplicates()\n",
    "\n",
    "# Step 6: Filter grouped orders by high-value Order IDs\n",
    "high_orders = grouped_orders[grouped_orders['Order ID'].isin(high_value['Order ID'])]\n",
    "\n",
    "# Step 7: Count combinations\n",
    "combo_counter = Counter()\n",
    "for row in high_orders['Grouped']:\n",
    "    items = tuple(sorted(row.split(', ')))\n",
    "    combo_counter[items] += 1\n",
    "\n",
    "# Step 8: Show results\n",
    "for combo in combo_counter.most_common(10):\n",
    "    print(combo)"
   ]
  },
  {
   "cell_type": "markdown",
   "id": "62ff221a",
   "metadata": {},
   "source": [
    "Bar Chart:"
   ]
  },
  {
   "cell_type": "code",
   "execution_count": null,
   "id": "457ebe2b",
   "metadata": {},
   "outputs": [],
   "source": [
    "import matplotlib.pyplot as plt\n",
    "\n",
    "# Prepare data for plotting\n",
    "top_combos = combo_counter.most_common(10)\n",
    "\n",
    "labels = [' + '.join(combo[0]) for combo in top_combos]\n",
    "counts = [combo[1] for combo in top_combos]\n",
    "\n",
    "# Plot\n",
    "plt.figure(figsize=(12, 6))\n",
    "plt.barh(labels, counts, color='teal')\n",
    "plt.title('Top 10 High-Value Product Combinations')\n",
    "plt.xlabel('Number of Orders')\n",
    "plt.gca().invert_yaxis()  # Show most frequent on top\n",
    "plt.grid(axis='x', linestyle='--', alpha=0.7)\n",
    "plt.tight_layout()\n",
    "plt.show()"
   ]
  },
  {
   "cell_type": "markdown",
   "id": "5dda20ca",
   "metadata": {},
   "source": [
    "🔸 high_value['Order ID'] → Orders with a high amount\n",
    "\n",
    "🔸 grouped_orders['Grouped'] → Combination of products in each order (e.g. \"iPhone, USB Cable\")\n",
    "\n",
    "📌 Application: Automatic second product suggestion on checkout page"
   ]
  },
  {
   "cell_type": "markdown",
   "id": "7c8fab88",
   "metadata": {},
   "source": [
    "## ⁉️ Question 05: What product sold the most?"
   ]
  },
  {
   "cell_type": "code",
   "execution_count": null,
   "id": "f3ad25e1",
   "metadata": {},
   "outputs": [],
   "source": [
    "product_sales = all_months_data.groupby('Product')['Quantity Ordered'].sum()\n",
    "product_sales.plot(kind='bar', title='Quantity Sold per Product')\n"
   ]
  },
  {
   "cell_type": "markdown",
   "id": "9f0cc908",
   "metadata": {},
   "source": [
    "## ⁉️ Question 06: Which products are often bought by high-value customers?\n",
    "\n",
    "🎯Goal: Find popular products for customers who make large purchases."
   ]
  },
  {
   "cell_type": "code",
   "execution_count": null,
   "id": "cacf26cc",
   "metadata": {},
   "outputs": [],
   "source": [
    "# Filter high-value orders\n",
    "high_value = all_months_data[all_months_data['Total Price'] > 500]\n",
    "\n",
    "# Count top products\n",
    "top_products = high_value['Product'].value_counts().head(10)\n",
    "print(top_products)\n"
   ]
  },
  {
   "cell_type": "markdown",
   "id": "e47ab18a",
   "metadata": {},
   "source": [
    "📌 Application: This type of analysis helps the marketing team understand which products are suitable for premium campaigns."
   ]
  },
  {
   "cell_type": "markdown",
   "id": "db869379",
   "metadata": {},
   "source": [
    "## ⁉️ Question 07: What is the average basket size per order?\n",
    "\n",
    "🎯Goal: Calculate the number of items each customer purchases on average in an order."
   ]
  },
  {
   "cell_type": "code",
   "execution_count": null,
   "id": "bdfc127d",
   "metadata": {},
   "outputs": [],
   "source": [
    "order_size = all_months_data.groupby('Order ID')['Quantity Ordered'].sum()\n",
    "avg_basket_size = order_size.mean()\n",
    "print(f\"Average items per order: {avg_basket_size:.2f}\")\n"
   ]
  },
  {
   "cell_type": "markdown",
   "id": "15b9eeec",
   "metadata": {},
   "source": [
    "📌 Application: For designing incremental offers (cross-sell / upsell)"
   ]
  },
  {
   "cell_type": "markdown",
   "id": "d0a77afb",
   "metadata": {},
   "source": [
    "## ⁉️ Question 08: What’s the revenue share of top 20% customers (Pareto 80/20)?\n",
    "\n",
    "🎯Goal: To investigate whether 20% of customers generate 80% of sales."
   ]
  },
  {
   "cell_type": "code",
   "execution_count": null,
   "id": "a762c988",
   "metadata": {},
   "outputs": [],
   "source": [
    "customer_revenue = all_months_data.groupby('Purchase Address')['Total Price'].sum().sort_values(ascending=False)\n",
    "top_20_percent = int(0.2 * len(customer_revenue))\n",
    "\n",
    "revenue_top = customer_revenue.iloc[:top_20_percent].sum()\n",
    "revenue_total = customer_revenue.sum()\n",
    "\n",
    "share = revenue_top / revenue_total\n",
    "print(f\"Top 20% customers bring in {share:.1%} of total revenue\")\n"
   ]
  },
  {
   "cell_type": "markdown",
   "id": "1cd2fcae",
   "metadata": {},
   "source": [
    "📌 Application: Focus on more profitable customers"
   ]
  },
  {
   "cell_type": "markdown",
   "id": "5df5f7b7",
   "metadata": {},
   "source": [
    "## ⁉️ Question 09: Which products have seasonal sales patterns?\n",
    "\n",
    "🎯Goal: Identify products whose sales increase or decrease in certain months."
   ]
  },
  {
   "cell_type": "code",
   "execution_count": null,
   "id": "0a715cb1",
   "metadata": {},
   "outputs": [],
   "source": [
    "monthly = all_months_data.copy()\n",
    "monthly['Month'] = monthly['Order Date'].dt.month\n",
    "\n",
    "seasonality = monthly.groupby(['Month', 'Product'])['Quantity Ordered'].sum().unstack()\n",
    "seasonality.plot(figsize=(14,6))\n"
   ]
  },
  {
   "cell_type": "markdown",
   "id": "2581d2fc",
   "metadata": {},
   "source": [
    "📌 Application: Inventory forecasting and seasonal promotions"
   ]
  }
 ],
 "metadata": {
  "kernelspec": {
   "display_name": "venv",
   "language": "python",
   "name": "python3"
  },
  "language_info": {
   "codemirror_mode": {
    "name": "ipython",
    "version": 3
   },
   "file_extension": ".py",
   "mimetype": "text/x-python",
   "name": "python",
   "nbconvert_exporter": "python",
   "pygments_lexer": "ipython3",
   "version": "3.10.10"
  }
 },
 "nbformat": 4,
 "nbformat_minor": 5
}
