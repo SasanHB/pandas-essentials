{
 "cells": [
  {
   "cell_type": "markdown",
   "id": "e981100f",
   "metadata": {},
   "source": [
    "# 📓 Lesson 11: Data Visualization with Pandas, Matplotlib, and Seaborn\n",
    "📘 What you will learn:\n",
    "\n",
    "1. In this lesson, you’ll learn how to:\n",
    "2. Create basic charts with Pandas (.plot())\n",
    "3. Use Matplotlib for customizing plots\n",
    "4. Use Seaborn for cleaner and more advanced visuals\n",
    "5. Choose the right chart for your data\n",
    "6. Add labels, titles, colors, and grid lines"
   ]
  },
  {
   "cell_type": "markdown",
   "id": "bf1c2fcf",
   "metadata": {},
   "source": [
    "🧠 Why is this useful?\n",
    "\n",
    "- Visualization helps you:\n",
    "- Understand patterns and trends faster\n",
    "- Communicate results clearly to others\n",
    "- Detect outliers and problems\n",
    "- Make better decisions based on visual evidence"
   ]
  },
  {
   "cell_type": "markdown",
   "id": "fcccb1c2",
   "metadata": {},
   "source": [
    "## 🧪 Step 1: Load and prepare the data"
   ]
  },
  {
   "cell_type": "code",
   "execution_count": null,
   "id": "930766bb",
   "metadata": {},
   "outputs": [],
   "source": [
    "import pandas as pd\n",
    "\n",
    "df = pd.read_csv('../data/Sales_January_2019.csv')\n",
    "\n",
    "# Clean and prepare data\n",
    "df['Order Date'] = pd.to_datetime(df['Order Date'], format=\"%m/%d/%y %H:%M\", errors='coerce')\n",
    "df['Quantity Ordered'] = pd.to_numeric(df['Quantity Ordered'], errors='coerce')\n",
    "df['Price Each'] = pd.to_numeric(df['Price Each'], errors='coerce')\n",
    "df = df.dropna(subset=['Order Date', 'Quantity Ordered', 'Price Each'])\n",
    "df['Total Price'] = df['Quantity Ordered'] * df['Price Each']"
   ]
  },
  {
   "cell_type": "markdown",
   "id": "20ec5cd7",
   "metadata": {},
   "source": [
    "## 📈 Step 2: Line Plot – Total Sales by Day\n",
    "\n",
    "[Matplotlib docs here.](https://matplotlib.org/)"
   ]
  },
  {
   "cell_type": "code",
   "execution_count": null,
   "id": "97dc0dfd",
   "metadata": {
    "vscode": {
     "languageId": "powershell"
    }
   },
   "outputs": [],
   "source": [
    "pip install matplotlib"
   ]
  },
  {
   "cell_type": "code",
   "execution_count": null,
   "id": "d6598d9a",
   "metadata": {},
   "outputs": [],
   "source": [
    "import matplotlib.pyplot as plt\n",
    "\n",
    "# Group by date\n",
    "df.set_index('Order Date', inplace=True)\n",
    "daily_sales = df['Total Price'].resample('D').sum()\n",
    "\n",
    "# Plot it\n",
    "plt.figure(figsize=(12, 4))\n",
    "daily_sales.plot()\n",
    "plt.title('Total Sales Per Day')\n",
    "plt.xlabel('Date')\n",
    "plt.ylabel('Total Sales')\n",
    "plt.grid(True)\n",
    "plt.show()\n"
   ]
  },
  {
   "cell_type": "markdown",
   "id": "1b3f8bea",
   "metadata": {},
   "source": [
    "📌 Use a line chart when you want to show a trend over time."
   ]
  },
  {
   "cell_type": "markdown",
   "id": "1c694e49",
   "metadata": {},
   "source": [
    "## 📊 Step 3: Bar Plot – Sales by Product"
   ]
  },
  {
   "cell_type": "code",
   "execution_count": null,
   "id": "64fc2784",
   "metadata": {},
   "outputs": [],
   "source": [
    "product_sales = df.groupby('Product')['Total Price'].sum().sort_values()\n",
    "\n",
    "product_sales.plot(kind='barh', figsize=(10, 6), color='skyblue')\n",
    "plt.title('Total Sales by Product')\n",
    "plt.xlabel('Sales ($)')\n",
    "plt.ylabel('Product')\n",
    "plt.grid(axis='x')\n",
    "plt.show()"
   ]
  },
  {
   "cell_type": "markdown",
   "id": "1ce6de1e",
   "metadata": {},
   "source": [
    "📌 Use a bar chart when comparing categories like products or cities."
   ]
  },
  {
   "cell_type": "markdown",
   "id": "32d3de90",
   "metadata": {},
   "source": [
    "## 🥧 Step 4: Pie Chart – Share of Total"
   ]
  },
  {
   "cell_type": "code",
   "execution_count": null,
   "id": "374b4a0a",
   "metadata": {},
   "outputs": [],
   "source": [
    "# Share of sales by product (top 5 only)\n",
    "top5 = df.groupby('Product')['Total Price'].sum().nlargest(5)\n",
    "top5.plot(kind='pie', autopct='%1.1f%%', startangle=90, figsize=(6, 6), title='Top 5 Products')\n"
   ]
  },
  {
   "cell_type": "markdown",
   "id": "8573f6aa",
   "metadata": {},
   "source": [
    "📌 What it shows:\n",
    "- Show proportions of a whole\n",
    "- Which categories take the largest portion of revenue\n",
    "\n",
    "⚠️ Not recommended for more than 4–6 categories"
   ]
  },
  {
   "cell_type": "markdown",
   "id": "49d2074c",
   "metadata": {},
   "source": [
    "## 📍 Step 5: Scatter Plot – Show Relationship Between Two Variables\n",
    "\n",
    "Use case: Explore correlation or trend between two values\n",
    "\n",
    "Example: Quantity Ordered vs. Total Sales"
   ]
  },
  {
   "cell_type": "code",
   "execution_count": null,
   "id": "4dbde685",
   "metadata": {},
   "outputs": [],
   "source": [
    "summary = df.groupby('Product').agg({\n",
    "    'Quantity Ordered': 'sum',\n",
    "    'Total Price': 'sum'\n",
    "}).reset_index()\n",
    "\n",
    "plt.figure(figsize=(10, 6))\n",
    "plt.scatter(summary['Quantity Ordered'], summary['Total Price'], s=100)\n",
    "\n",
    "# Add product labels to each point\n",
    "for i, txt in enumerate(summary['Product']):\n",
    "    plt.annotate(txt, (summary['Quantity Ordered'][i], summary['Total Price'][i]))\n",
    "\n",
    "plt.xlabel(\"Quantity Ordered\")\n",
    "plt.ylabel(\"Total Revenue\")\n",
    "plt.title(\"Quantity vs Revenue per Product\")\n",
    "plt.grid(True)\n",
    "plt.show()\n"
   ]
  },
  {
   "cell_type": "markdown",
   "id": "c8dec016",
   "metadata": {},
   "source": [
    "📌 What it shows:\n",
    "- Products with high quantity but low price → right-bottom (e.g., cables)\n",
    "- Products with low quantity but high price → top-left (e.g., Macbook)"
   ]
  },
  {
   "cell_type": "markdown",
   "id": "6e5953b2",
   "metadata": {},
   "source": [
    "## 📉 Step 6: Histogram – Distribution of Order \n",
    "Use case: Show how values are distributed over ranges (bins)"
   ]
  },
  {
   "cell_type": "code",
   "execution_count": null,
   "id": "492e34a3",
   "metadata": {},
   "outputs": [],
   "source": [
    "df['Total Price'].plot(kind='hist', bins=50, color='orange', figsize=(10, 4))\n",
    "plt.title('Distribution of Total Order Values')\n",
    "plt.xlabel('Total Price ($)')\n",
    "plt.grid(True)\n",
    "plt.show()"
   ]
  },
  {
   "cell_type": "markdown",
   "id": "75a8447f",
   "metadata": {},
   "source": [
    "📌 Use a histogram to understand the distribution of numeric data.\n",
    "- View the distribution of prices, incomes or scores\n",
    "- Identify outliers\n",
    "- Analyze the concentration of data (where is it more?)\n",
    "- Understand whether the data is normal or not (Normal distribution)"
   ]
  },
  {
   "cell_type": "markdown",
   "id": "a57682a3",
   "metadata": {},
   "source": []
  },
  {
   "cell_type": "markdown",
   "id": "308cdb8b",
   "metadata": {},
   "source": [
    "## 🎨 Step 7: Use Seaborn for nicer plots\n",
    "\n",
    "[Seaborn docs here.](https://seaborn.pydata.org/)"
   ]
  },
  {
   "cell_type": "code",
   "execution_count": null,
   "id": "5f22afd4",
   "metadata": {
    "vscode": {
     "languageId": "powershell"
    }
   },
   "outputs": [],
   "source": [
    "pip install seaborn"
   ]
  },
  {
   "cell_type": "markdown",
   "id": "e40a3750",
   "metadata": {},
   "source": [
    "📌 Seaborn makes it easier to build attractive plots with one line of code."
   ]
  },
  {
   "cell_type": "markdown",
   "id": "940bb912",
   "metadata": {},
   "source": [
    "### 📦 Box Plot – Compare Distributions & Spot Outliers\n",
    "Use case: Compare spread of values across categories, and detect outliers"
   ]
  },
  {
   "cell_type": "code",
   "execution_count": null,
   "id": "8dcf95f6",
   "metadata": {},
   "outputs": [],
   "source": [
    "import seaborn as sns\n",
    "\n",
    "# Example: Box plot of order values by product\n",
    "plt.figure(figsize=(12, 5))\n",
    "sns.boxplot(data=df, x='Product', y='Total Price')\n",
    "plt.xticks(rotation=90)\n",
    "plt.title('Order Value Distribution per Product')\n",
    "plt.show()\n"
   ]
  },
  {
   "cell_type": "markdown",
   "id": "d0ec7588",
   "metadata": {},
   "source": [
    "📌 What it shows:\n",
    "- Boxes = 50% of values (middle range)\n",
    "- Lines = median\n",
    "- Dots = outliers (extremely high/low orders)"
   ]
  },
  {
   "cell_type": "markdown",
   "id": "6c795fe0",
   "metadata": {},
   "source": [
    "## 🔥 Step 8: Heatmap – Correlation Between Variables\n",
    "Use case: Show how multiple numeric columns relate to each other"
   ]
  },
  {
   "cell_type": "code",
   "execution_count": null,
   "id": "3c05f227",
   "metadata": {},
   "outputs": [],
   "source": [
    "correlation = df[['Quantity Ordered', 'Price Each', 'Total Price']].corr()\n",
    "\n",
    "sns.heatmap(correlation, annot=True, cmap='coolwarm')\n",
    "plt.title(\"Correlation Heatmap\")\n",
    "plt.show()\n"
   ]
  },
  {
   "cell_type": "markdown",
   "id": "b6fb1fe1",
   "metadata": {},
   "source": [
    "📌 What it shows:\n",
    "- How strongly columns are related (from -1 to +1)\n",
    "- Dark red/blue = stronger correlation"
   ]
  },
  {
   "cell_type": "markdown",
   "id": "1a73e470",
   "metadata": {},
   "source": [
    "## 🧠 Practice Exercises\n",
    "1. Line chart of daily total sales\n",
    "2. Bar chart of total quantity sold by product\n",
    "3. Histogram of Price Each\n",
    "4. Boxplot of total price by city (extract city from address)"
   ]
  },
  {
   "cell_type": "code",
   "execution_count": null,
   "id": "3dda9ec7",
   "metadata": {},
   "outputs": [],
   "source": [
    "import seaborn as sns\n",
    "import matplotlib.pyplot as plt\n",
    "\n",
    "# 1\n",
    "daily_sales = df['Total Price'].resample('D').sum()\n",
    "daily_sales.plot(figsize=(12, 4), title=\"Daily Total Sales\")\n",
    "\n",
    "# 2\n",
    "df.groupby('Product')['Quantity Ordered'].sum().plot(kind='bar', color='lightgreen')\n",
    "\n",
    "# 3\n",
    "df['Price Each'].plot(kind='hist', bins=40, title=\"Price Distribution\")\n",
    "\n",
    "# 4\n",
    "def extract_city(address):\n",
    "    try:\n",
    "        return address.split(',')[1].strip()\n",
    "    except:\n",
    "        return None\n",
    "\n",
    "df['City'] = df['Purchase Address'].apply(extract_city)\n",
    "df = df.dropna(subset=['City'])\n",
    "\n",
    "plt.figure(figsize=(12, 6))\n",
    "sns.boxplot(data=df, x='City', y='Total Price')\n",
    "plt.xticks(rotation=45)\n",
    "plt.title(\"Order Value by City\")\n",
    "plt.grid(True)\n",
    "plt.show()"
   ]
  },
  {
   "cell_type": "markdown",
   "id": "47ec4de7",
   "metadata": {},
   "source": [
    "## 📌 Summary\n",
    "- In this lesson, you learned:\n",
    "- How to use Pandas and Matplotlib to create simple visualizations\n",
    "- How to use Seaborn for advanced, beautiful plots\n",
    "- The best chart types for trend, comparison, and distribution\n",
    "- How to customize titles, labels, and layouts\n",
    "\n",
    "👉 In the next module, we’ll move on to real-world projects, starting with Sales Data Analysis from all 12 months."
   ]
  }
 ],
 "metadata": {
  "kernelspec": {
   "display_name": "Python 3 (ipykernel)",
   "language": "python",
   "name": "python3"
  },
  "language_info": {
   "codemirror_mode": {
    "name": "ipython",
    "version": 3
   },
   "file_extension": ".py",
   "mimetype": "text/x-python",
   "name": "python",
   "nbconvert_exporter": "python",
   "pygments_lexer": "ipython3",
   "version": "3.10.10"
  }
 },
 "nbformat": 4,
 "nbformat_minor": 5
}
