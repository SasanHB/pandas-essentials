{
 "cells": [
  {
   "cell_type": "markdown",
   "id": "63038542",
   "metadata": {},
   "source": [
    "# 📓 Lesson 10: Time Series and Date-Based Analysis\n",
    "📘 What you will learn:\n",
    "\n",
    "In this lesson, you’ll learn how to:\n",
    "1. Convert columns to datetime format\n",
    "2. Extract date parts (year, month, day, hour)\n",
    "3. Use resample() for time-based grouping\n",
    "4. Use rolling() and expanding() for moving averages and trends\n",
    "5. When and why to use time series functions in real projects"
   ]
  },
  {
   "cell_type": "markdown",
   "id": "0250d346",
   "metadata": {},
   "source": [
    "## 🧠 Why is this useful?\n",
    "Many datasets contain date and time information:\n",
    "- Sales logs\n",
    "- Website visits\n",
    "- Sensor or IoT data\n",
    "- Financial prices\n",
    "\n",
    "Time-based data is everywhere: sales over time, stock prices, server logs, website traffic...\n",
    "\n",
    "You often need to group by month, see trends per day, or calculate a rolling average.\n",
    "\n",
    "Understanding how to work with time helps you:\n",
    "- Analyze trends (monthly, weekly, hourly)\n",
    "- Detect patterns over time\n",
    "- Forecast future behavior"
   ]
  },
  {
   "cell_type": "markdown",
   "id": "ef3d3b94",
   "metadata": {},
   "source": [
    "## 🧪 Step 1: Load and prepare the dataset"
   ]
  },
  {
   "cell_type": "code",
   "execution_count": null,
   "id": "149127b8",
   "metadata": {},
   "outputs": [],
   "source": [
    "import pandas as pd\n",
    "\n",
    "df = pd.read_csv('../data/Sales_January_2019.csv')\n",
    "\n",
    "# Convert columns\n",
    "df['Quantity Ordered'] = pd.to_numeric(df['Quantity Ordered'], errors='coerce')\n",
    "df['Price Each'] = pd.to_numeric(df['Price Each'], errors='coerce')\n",
    "df['Order Date'] = pd.to_datetime(df['Order Date'], format='%m/%d/%y %H:%M', errors='coerce')\n",
    "\n",
    "# Drop invalid rows\n",
    "df = df.dropna(subset=['Quantity Ordered', 'Price Each', 'Order Date'])\n",
    "\n",
    "# Add total column\n",
    "df['Total Price'] = df['Quantity Ordered'] * df['Price Each']\n"
   ]
  },
  {
   "cell_type": "markdown",
   "id": "c011ef1c",
   "metadata": {},
   "source": [
    "💡 Tips: Why did we use format='%m/%d/%y %H:%M' in Order Date?\n",
    "\n",
    "The pd.to_datetime() function tries to automatically guess the date format.\n",
    "\n",
    "However, if your file does not have a clear and consistent format defined (e.g. MM/DD/YY HH:MM), Pandas will use the dateutil library for each row separately, which:\n",
    "- is slower\n",
    "- may be interpreted inconsistently\n",
    "- and may convert some records incorrectly or incompletely\n",
    "\n",
    "📅Most common date format:\n",
    "\n",
    "| Output       | Date Format       |\n",
    "| ---------------- | ---------------- |\n",
    "| `01/22/19`       | `%m/%d/%y`       |\n",
    "| `2023-12-31`     | `%Y-%m-%d`       |\n",
    "| `31/12/2023`     | `%d/%m/%Y`       |\n",
    "| `01/22/19 13:45` | `%m/%d/%y %H:%M` |\n"
   ]
  },
  {
   "cell_type": "markdown",
   "id": "e71a6640",
   "metadata": {},
   "source": [
    "## ⌚ Step 2: Extract time components\n",
    "You can get year, month, day, hour, etc. from a datetime column:"
   ]
  },
  {
   "cell_type": "code",
   "execution_count": null,
   "id": "f8f52e75",
   "metadata": {},
   "outputs": [],
   "source": [
    "# Extract month, day, hour\n",
    "df['Month'] = df['Order Date'].dt.month\n",
    "df['Day'] = df['Order Date'].dt.day\n",
    "df['Hour'] = df['Order Date'].dt.hour\n",
    "df['Weekday'] = df['Order Date'].dt.day_name()\n",
    "\n",
    "print(df[['Order Date', 'Month', 'Day', 'Hour', 'Weekday']].head())"
   ]
  },
  {
   "cell_type": "markdown",
   "id": "6b4d5c1f",
   "metadata": {},
   "source": [
    "📌 Use these new columns to analyze seasonal trends, peak hours, etc."
   ]
  },
  {
   "cell_type": "markdown",
   "id": "39ac41e2",
   "metadata": {},
   "source": [
    "## 📅 Step 3: Group by date parts"
   ]
  },
  {
   "cell_type": "code",
   "execution_count": null,
   "id": "ab609284",
   "metadata": {},
   "outputs": [],
   "source": [
    "# Total sales per month\n",
    "print(df.groupby('Month')['Total Price'].sum())"
   ]
  },
  {
   "cell_type": "markdown",
   "id": "5bf6afaf",
   "metadata": {},
   "source": [
    "Or per hour:"
   ]
  },
  {
   "cell_type": "code",
   "execution_count": null,
   "id": "3b9ebcc0",
   "metadata": {},
   "outputs": [],
   "source": [
    "# Average sales per hour\n",
    "print(df.groupby('Hour')['Total Price'].mean())"
   ]
  },
  {
   "cell_type": "markdown",
   "id": "a5b9d665",
   "metadata": {},
   "source": [
    "## 🔁 Step 4: Use resample() for time-based grouping\n",
    "Set the datetime column as index first:"
   ]
  },
  {
   "cell_type": "code",
   "execution_count": null,
   "id": "fcaed4c6",
   "metadata": {},
   "outputs": [],
   "source": [
    "df = df.set_index('Order Date')\n",
    "\n",
    "# Resample daily sales (total sales per day)\n",
    "daily_sales = df['Total Price'].resample('D').sum()\n",
    "print(daily_sales.head())"
   ]
  },
  {
   "cell_type": "markdown",
   "id": "d495a82b",
   "metadata": {},
   "source": [
    "📌 Common resample frequencies:\n",
    "\n",
    "'D' = Daily, 'W' = Weekly, 'M' = Monthly, 'H' = Hourly, etc."
   ]
  },
  {
   "cell_type": "markdown",
   "id": "9ec2738e",
   "metadata": {},
   "source": [
    "## 📈 Step 5: Use rolling() for moving averages\n",
    "This is helpful for smoothing out short-term noise and seeing trends:"
   ]
  },
  {
   "cell_type": "code",
   "execution_count": null,
   "id": "22fc1466",
   "metadata": {},
   "outputs": [],
   "source": [
    "# 7-day moving average\n",
    "rolling_avg = daily_sales.rolling(window=7).mean()\n",
    "\n",
    "print(rolling_avg.head(10))"
   ]
  },
  {
   "cell_type": "markdown",
   "id": "02294dd5",
   "metadata": {},
   "source": [
    "🧠 What is a Moving Average?\n",
    "\n",
    "A Moving Average is the average of a fixed number of recent data points that slides forward through the dataset.\n",
    "\n",
    "🔸 window=7: average over the last 7 days\n",
    "\n",
    "🔸 Helps you see patterns more clearly than the raw, jumpy daily data\n",
    "\n",
    "📈 It's commonly used in:\n",
    "- Stock prices\n",
    "- Website traffic\n",
    "- Sales trends\n",
    "- Sensor data"
   ]
  },
  {
   "cell_type": "markdown",
   "id": "c56d908f",
   "metadata": {},
   "source": [
    "You can plot it (if needed):"
   ]
  },
  {
   "cell_type": "markdown",
   "id": "22ef5fd0",
   "metadata": {},
   "source": [
    "! You need to install the matplotlib package to work with charts:"
   ]
  },
  {
   "cell_type": "code",
   "execution_count": null,
   "id": "2a57fbba",
   "metadata": {
    "vscode": {
     "languageId": "powershell"
    }
   },
   "outputs": [],
   "source": [
    "pip install matplotlib"
   ]
  },
  {
   "cell_type": "code",
   "execution_count": null,
   "id": "d71187a9",
   "metadata": {},
   "outputs": [],
   "source": [
    "import matplotlib.pyplot as plt\n",
    "\n",
    "plt.figure(figsize=(12, 4))\n",
    "daily_sales.plot(label='Daily Sales')\n",
    "rolling_avg.plot(label='7-Day Avg')\n",
    "plt.legend()\n",
    "plt.title(\"Daily Sales and Moving Average\")\n",
    "plt.show()"
   ]
  }
 ],
 "metadata": {
  "kernelspec": {
   "display_name": "Python 3 (ipykernel)",
   "language": "python",
   "name": "python3"
  },
  "language_info": {
   "codemirror_mode": {
    "name": "ipython",
    "version": 3
   },
   "file_extension": ".py",
   "mimetype": "text/x-python",
   "name": "python",
   "nbconvert_exporter": "python",
   "pygments_lexer": "ipython3",
   "version": "3.10.10"
  }
 },
 "nbformat": 4,
 "nbformat_minor": 5
}
