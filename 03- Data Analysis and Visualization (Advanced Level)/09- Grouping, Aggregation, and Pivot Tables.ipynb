{
 "cells": [
  {
   "cell_type": "markdown",
   "id": "7b280d03",
   "metadata": {},
   "source": [
    "# 📓 Lesson 9: Grouping, Aggregation, and Pivot Tables\n",
    "📘 What you will learn:\n",
    "1. How to group data using groupby()\n",
    "2. How to apply aggregation functions like sum(), mean(), count()\n",
    "3. How and when to use agg() for multiple aggregations\n",
    "4. How to create and use pivot tables (pivot_table)\n",
    "5. What is MultiIndex and how to work with it"
   ]
  },
  {
   "cell_type": "markdown",
   "id": "f598bb39",
   "metadata": {},
   "source": [
    "## 🧪 Step 1: Why do we group data?\n",
    "Grouping is useful when you want to summarize data and answer questions like:\n",
    "- What was the total sales per product?\n",
    "- How many items were sold per product?\n",
    "- What is the average order value per city?\n",
    "- What is the average order amount per month?\n",
    "- How many orders did each customer make?\n",
    "- What is the total revenue per city?\n",
    "\n",
    "To answer these, you need grouping and aggregation.\n",
    "\n",
    "Think of groupby() as saying:\n",
    "\n",
    "“Group the data by X, and calculate Y.”"
   ]
  },
  {
   "cell_type": "markdown",
   "id": "eb45c2b4",
   "metadata": {},
   "source": [
    "## 📦 Step 2: Load the Dataset"
   ]
  },
  {
   "cell_type": "code",
   "execution_count": null,
   "id": "b9393277",
   "metadata": {},
   "outputs": [],
   "source": [
    "import pandas as pd\n",
    "\n",
    "df = pd.read_csv('../data/Sales_January_2019.csv')\n",
    "\n",
    "# Convert numeric columns\n",
    "df['Quantity Ordered'] = pd.to_numeric(df['Quantity Ordered'], errors='coerce')\n",
    "df['Price Each'] = pd.to_numeric(df['Price Each'], errors='coerce')\n",
    "\n",
    "# # Remove bad rows\n",
    "df = df.dropna(subset=['Quantity Ordered', 'Price Each', 'Order Date'])\n",
    "\n",
    "# Add total price column\n",
    "df['Total Price'] = df['Quantity Ordered'] * df['Price Each']"
   ]
  },
  {
   "cell_type": "markdown",
   "id": "c254b4ce",
   "metadata": {},
   "source": [
    "## 🔗 Step 3: Grouping with groupby()\n",
    "Group by Product and calculate total revenue per product:"
   ]
  },
  {
   "cell_type": "code",
   "execution_count": null,
   "id": "85dcd9c4",
   "metadata": {},
   "outputs": [],
   "source": [
    "grouped = df.groupby('Product')['Total Price'].sum()\n",
    "print(grouped)"
   ]
  },
  {
   "cell_type": "markdown",
   "id": "ee121538",
   "metadata": {},
   "source": [
    "📌 groupby('Product') groups all rows with the same product name together\n",
    "\n",
    "📌 'Total Price'.sum() calculates the sum of that column for each product"
   ]
  },
  {
   "cell_type": "markdown",
   "id": "1cb40f7a",
   "metadata": {},
   "source": [
    "## 🧠 Step 4: Use Aggregation Functions\n",
    "You can use many built-in functions after groupby(), such as:\n",
    "- sum() – total of a column\n",
    "- mean() – average\n",
    "- count() – number of rows\n",
    "- min() / max() – smallest/largest value"
   ]
  },
  {
   "cell_type": "code",
   "execution_count": null,
   "id": "c0e1922c",
   "metadata": {},
   "outputs": [],
   "source": [
    "# Average order price per product\n",
    "print(df.groupby('Product')['Total Price'].mean())"
   ]
  },
  {
   "cell_type": "markdown",
   "id": "14e4a8a8",
   "metadata": {},
   "source": [
    "📌 Use count() to count rows in each group:"
   ]
  },
  {
   "cell_type": "code",
   "execution_count": null,
   "id": "024d2d4e",
   "metadata": {},
   "outputs": [],
   "source": [
    "print(df.groupby('Product').count())"
   ]
  },
  {
   "cell_type": "markdown",
   "id": "536be454",
   "metadata": {},
   "source": [
    "## 🧮 Step 5: Multiple Aggregations with agg()\n",
    "Use .agg() when you want to calculate multiple things at once:"
   ]
  },
  {
   "cell_type": "code",
   "execution_count": null,
   "id": "3e6b595f",
   "metadata": {},
   "outputs": [],
   "source": [
    "# Group by product and calculate sum + mean\n",
    "summary = df.groupby('Product').agg({\n",
    "    'Quantity Ordered': 'sum',\n",
    "    'Total Price': ['sum', 'mean']\n",
    "})\n",
    "\n",
    "print(summary)"
   ]
  },
  {
   "cell_type": "markdown",
   "id": "0476408e",
   "metadata": {},
   "source": [
    "This returns a multi-level column index."
   ]
  },
  {
   "cell_type": "markdown",
   "id": "674dd2f2",
   "metadata": {},
   "source": [
    "## 🔁 Step 4: Group by multiple columns"
   ]
  },
  {
   "cell_type": "code",
   "execution_count": null,
   "id": "f7a6b3f8",
   "metadata": {},
   "outputs": [],
   "source": [
    "# Group by both Product and City\n",
    "df['City'] = df['Purchase Address'].apply(lambda x: x.split(',')[1].strip())\n",
    "\n",
    "result = df.groupby(['Product', 'City'])['Total Price'].sum()\n",
    "print(result)\n"
   ]
  },
  {
   "cell_type": "markdown",
   "id": "01b60407",
   "metadata": {},
   "source": [
    "## 🔄 Step 5: Use Pivot Tables\n",
    "A pivot table summarizes data like in Excel. It's easier to read than groupby() sometimes.\n",
    "\n",
    "🧠 When to use pivot_table()?\n",
    "\n",
    "Use pivot_table() when:\n",
    "- You want to summarize data across two dimensions (rows and columns)\n",
    "- You want to produce a table-like structure similar to Excel\n",
    "- You want quick summaries of numerical data\n",
    "\n",
    "📌 It is especially useful in dashboards, business reports, and product comparisons."
   ]
  },
  {
   "cell_type": "code",
   "execution_count": null,
   "id": "05b28b08",
   "metadata": {},
   "outputs": [],
   "source": [
    "# Total sales by Product and City\n",
    "pivot = df.pivot_table(\n",
    "    index='Product',\n",
    "    columns='City',\n",
    "    values='Total Price',\n",
    "    aggfunc='sum'\n",
    ")\n",
    "\n",
    "print(pivot)"
   ]
  },
  {
   "cell_type": "markdown",
   "id": "97551902",
   "metadata": {},
   "source": [
    "## 🧠 Practice Exercises\n",
    "1. Group by product and show total quantity sold\n",
    "2. Group by city and show average order value\n",
    "3. Use agg() to show total and average price per product\n",
    "4. Create a pivot table for total price by product and city"
   ]
  },
  {
   "cell_type": "code",
   "execution_count": null,
   "id": "03a888d3",
   "metadata": {},
   "outputs": [],
   "source": [
    "# 1\n",
    "print(df.groupby('Product')['Quantity Ordered'].sum())\n",
    "\n",
    "# 2\n",
    "print(df.groupby('City')['Total Price'].mean())\n",
    "\n",
    "# 3\n",
    "print(df.groupby('Product').agg({\n",
    "    'Total Price': ['sum', 'mean']\n",
    "}))\n",
    "\n",
    "# 4\n",
    "pivot = df.pivot_table(index='Product', columns='City', values='Total Price', aggfunc='sum')\n",
    "print(pivot)"
   ]
  },
  {
   "cell_type": "markdown",
   "id": "51e35a6a",
   "metadata": {},
   "source": [
    "## 📌 Summary\n",
    "In this lesson, you learned:\n",
    "\n",
    "- How to group your data using groupby()\n",
    "- How to apply one or multiple aggregations\n",
    "- When to use pivot tables instead of groupby\n",
    "- Real-world examples like grouping by product and city\n",
    "\n",
    "👉 In the next lesson, you’ll learn how to work with time-based data, such as extracting months and hours, and using resample() and rolling()."
   ]
  }
 ],
 "metadata": {
  "kernelspec": {
   "display_name": "Python 3 (ipykernel)",
   "language": "python",
   "name": "python3"
  },
  "language_info": {
   "codemirror_mode": {
    "name": "ipython",
    "version": 3
   },
   "file_extension": ".py",
   "mimetype": "text/x-python",
   "name": "python",
   "nbconvert_exporter": "python",
   "pygments_lexer": "ipython3",
   "version": "3.10.10"
  }
 },
 "nbformat": 4,
 "nbformat_minor": 5
}
